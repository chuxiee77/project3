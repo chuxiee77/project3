{
 "cells": [
  {
   "cell_type": "markdown",
   "metadata": {
    "editable": true,
    "slideshow": {
     "slide_type": ""
    },
    "tags": []
   },
   "source": [
    "# Lab 10\n",
    "\n",
    "_[General notebook information](https://computing-in-context.afeld.me/notebooks.html)_\n",
    "\n",
    "We are going to look at the population count of different community districts over time."
   ]
  },
  {
   "cell_type": "markdown",
   "metadata": {
    "editable": true,
    "slideshow": {
     "slide_type": ""
    },
    "tags": []
   },
   "source": [
    "## Step 0\n",
    "\n",
    "Read the data from the [New York City Population By Community Districts](https://data.cityofnewyork.us/City-Government/New-York-City-Population-By-Community-Districts/xi7c-iiu2/data) data set into a DataFrame called `pop_by_cd`. To get the URL:\n",
    "\n",
    "1. Visit the page linked above.\n",
    "1. Click `Export`.\n",
    "1. Right-click `CSV`.\n",
    "1. Click `Copy Link Address` (or `Location`, depending on your browser)."
   ]
  },
  {
   "cell_type": "code",
   "execution_count": 1,
   "metadata": {
    "editable": true,
    "scrolled": true,
    "slideshow": {
     "slide_type": ""
    },
    "tags": [
     "solution"
    ]
   },
   "outputs": [
    {
     "data": {
      "text/html": [
       "<div>\n",
       "<style scoped>\n",
       "    .dataframe tbody tr th:only-of-type {\n",
       "        vertical-align: middle;\n",
       "    }\n",
       "\n",
       "    .dataframe tbody tr th {\n",
       "        vertical-align: top;\n",
       "    }\n",
       "\n",
       "    .dataframe thead th {\n",
       "        text-align: right;\n",
       "    }\n",
       "</style>\n",
       "<table border=\"1\" class=\"dataframe\">\n",
       "  <thead>\n",
       "    <tr style=\"text-align: right;\">\n",
       "      <th></th>\n",
       "      <th>Borough</th>\n",
       "      <th>CD Number</th>\n",
       "      <th>CD Name</th>\n",
       "      <th>1970 Population</th>\n",
       "      <th>1980 Population</th>\n",
       "      <th>1990 Population</th>\n",
       "      <th>2000 Population</th>\n",
       "      <th>2010 Population</th>\n",
       "    </tr>\n",
       "  </thead>\n",
       "  <tbody>\n",
       "    <tr>\n",
       "      <th>0</th>\n",
       "      <td>Bronx</td>\n",
       "      <td>1</td>\n",
       "      <td>Melrose, Mott Haven, Port Morris</td>\n",
       "      <td>138557</td>\n",
       "      <td>78441</td>\n",
       "      <td>77214</td>\n",
       "      <td>82159</td>\n",
       "      <td>91497</td>\n",
       "    </tr>\n",
       "    <tr>\n",
       "      <th>1</th>\n",
       "      <td>Bronx</td>\n",
       "      <td>2</td>\n",
       "      <td>Hunts Point, Longwood</td>\n",
       "      <td>99493</td>\n",
       "      <td>34399</td>\n",
       "      <td>39443</td>\n",
       "      <td>46824</td>\n",
       "      <td>52246</td>\n",
       "    </tr>\n",
       "    <tr>\n",
       "      <th>2</th>\n",
       "      <td>Bronx</td>\n",
       "      <td>3</td>\n",
       "      <td>Morrisania, Crotona Park East</td>\n",
       "      <td>150636</td>\n",
       "      <td>53635</td>\n",
       "      <td>57162</td>\n",
       "      <td>68574</td>\n",
       "      <td>79762</td>\n",
       "    </tr>\n",
       "    <tr>\n",
       "      <th>3</th>\n",
       "      <td>Bronx</td>\n",
       "      <td>4</td>\n",
       "      <td>Highbridge, Concourse Village</td>\n",
       "      <td>144207</td>\n",
       "      <td>114312</td>\n",
       "      <td>119962</td>\n",
       "      <td>139563</td>\n",
       "      <td>146441</td>\n",
       "    </tr>\n",
       "    <tr>\n",
       "      <th>4</th>\n",
       "      <td>Bronx</td>\n",
       "      <td>5</td>\n",
       "      <td>University Hts., Fordham, Mt. Hope</td>\n",
       "      <td>121807</td>\n",
       "      <td>107995</td>\n",
       "      <td>118435</td>\n",
       "      <td>128313</td>\n",
       "      <td>128200</td>\n",
       "    </tr>\n",
       "    <tr>\n",
       "      <th>5</th>\n",
       "      <td>Bronx</td>\n",
       "      <td>6</td>\n",
       "      <td>East Tremont, Belmont</td>\n",
       "      <td>114137</td>\n",
       "      <td>65016</td>\n",
       "      <td>68061</td>\n",
       "      <td>75688</td>\n",
       "      <td>83268</td>\n",
       "    </tr>\n",
       "    <tr>\n",
       "      <th>6</th>\n",
       "      <td>Bronx</td>\n",
       "      <td>7</td>\n",
       "      <td>Bedford Park, Norwood, Fordham</td>\n",
       "      <td>113764</td>\n",
       "      <td>116827</td>\n",
       "      <td>128588</td>\n",
       "      <td>141411</td>\n",
       "      <td>139286</td>\n",
       "    </tr>\n",
       "    <tr>\n",
       "      <th>7</th>\n",
       "      <td>Bronx</td>\n",
       "      <td>8</td>\n",
       "      <td>Riverdale, Kingsbridge, Marble Hill</td>\n",
       "      <td>103543</td>\n",
       "      <td>98275</td>\n",
       "      <td>97030</td>\n",
       "      <td>101332</td>\n",
       "      <td>101731</td>\n",
       "    </tr>\n",
       "    <tr>\n",
       "      <th>8</th>\n",
       "      <td>Bronx</td>\n",
       "      <td>9</td>\n",
       "      <td>Soundview, Parkchester</td>\n",
       "      <td>166442</td>\n",
       "      <td>167627</td>\n",
       "      <td>155970</td>\n",
       "      <td>167859</td>\n",
       "      <td>172298</td>\n",
       "    </tr>\n",
       "    <tr>\n",
       "      <th>9</th>\n",
       "      <td>Bronx</td>\n",
       "      <td>10</td>\n",
       "      <td>Throgs Nk., Co-op City, Pelham Bay</td>\n",
       "      <td>84948</td>\n",
       "      <td>106516</td>\n",
       "      <td>108093</td>\n",
       "      <td>115948</td>\n",
       "      <td>120392</td>\n",
       "    </tr>\n",
       "    <tr>\n",
       "      <th>10</th>\n",
       "      <td>Bronx</td>\n",
       "      <td>11</td>\n",
       "      <td>Pelham Pkwy, Morris Park, Laconia</td>\n",
       "      <td>105980</td>\n",
       "      <td>99080</td>\n",
       "      <td>97842</td>\n",
       "      <td>110706</td>\n",
       "      <td>113232</td>\n",
       "    </tr>\n",
       "    <tr>\n",
       "      <th>11</th>\n",
       "      <td>Bronx</td>\n",
       "      <td>12</td>\n",
       "      <td>Wakefield, Williamsbridge</td>\n",
       "      <td>135010</td>\n",
       "      <td>128226</td>\n",
       "      <td>129620</td>\n",
       "      <td>149077</td>\n",
       "      <td>152344</td>\n",
       "    </tr>\n",
       "    <tr>\n",
       "      <th>12</th>\n",
       "      <td>Brooklyn</td>\n",
       "      <td>1</td>\n",
       "      <td>Williamsburg, Greenpoint</td>\n",
       "      <td>179390</td>\n",
       "      <td>142942</td>\n",
       "      <td>155972</td>\n",
       "      <td>160338</td>\n",
       "      <td>173083</td>\n",
       "    </tr>\n",
       "    <tr>\n",
       "      <th>13</th>\n",
       "      <td>Brooklyn</td>\n",
       "      <td>2</td>\n",
       "      <td>Brooklyn Heights, Fort Greene</td>\n",
       "      <td>110221</td>\n",
       "      <td>92732</td>\n",
       "      <td>94534</td>\n",
       "      <td>98620</td>\n",
       "      <td>99617</td>\n",
       "    </tr>\n",
       "    <tr>\n",
       "      <th>14</th>\n",
       "      <td>Brooklyn</td>\n",
       "      <td>3</td>\n",
       "      <td>Bedford Stuyvesant</td>\n",
       "      <td>203380</td>\n",
       "      <td>133379</td>\n",
       "      <td>138696</td>\n",
       "      <td>143867</td>\n",
       "      <td>152985</td>\n",
       "    </tr>\n",
       "    <tr>\n",
       "      <th>15</th>\n",
       "      <td>Brooklyn</td>\n",
       "      <td>4</td>\n",
       "      <td>Bushwick</td>\n",
       "      <td>137902</td>\n",
       "      <td>92497</td>\n",
       "      <td>102572</td>\n",
       "      <td>104358</td>\n",
       "      <td>112634</td>\n",
       "    </tr>\n",
       "    <tr>\n",
       "      <th>16</th>\n",
       "      <td>Brooklyn</td>\n",
       "      <td>5</td>\n",
       "      <td>East New York, Starrett City</td>\n",
       "      <td>170791</td>\n",
       "      <td>154931</td>\n",
       "      <td>161350</td>\n",
       "      <td>173198</td>\n",
       "      <td>182896</td>\n",
       "    </tr>\n",
       "    <tr>\n",
       "      <th>17</th>\n",
       "      <td>Brooklyn</td>\n",
       "      <td>6</td>\n",
       "      <td>Park Slope, Carroll Gardens</td>\n",
       "      <td>138933</td>\n",
       "      <td>110228</td>\n",
       "      <td>102724</td>\n",
       "      <td>104054</td>\n",
       "      <td>104709</td>\n",
       "    </tr>\n",
       "    <tr>\n",
       "      <th>18</th>\n",
       "      <td>Brooklyn</td>\n",
       "      <td>7</td>\n",
       "      <td>Sunset Park, Windsor Terrace</td>\n",
       "      <td>111607</td>\n",
       "      <td>98567</td>\n",
       "      <td>102553</td>\n",
       "      <td>120063</td>\n",
       "      <td>126230</td>\n",
       "    </tr>\n",
       "    <tr>\n",
       "      <th>19</th>\n",
       "      <td>Brooklyn</td>\n",
       "      <td>8</td>\n",
       "      <td>Crown Heights North</td>\n",
       "      <td>121821</td>\n",
       "      <td>88796</td>\n",
       "      <td>96400</td>\n",
       "      <td>96076</td>\n",
       "      <td>96317</td>\n",
       "    </tr>\n",
       "    <tr>\n",
       "      <th>20</th>\n",
       "      <td>Brooklyn</td>\n",
       "      <td>9</td>\n",
       "      <td>Crown Heights South, Wingate</td>\n",
       "      <td>101047</td>\n",
       "      <td>96669</td>\n",
       "      <td>110715</td>\n",
       "      <td>104014</td>\n",
       "      <td>98429</td>\n",
       "    </tr>\n",
       "    <tr>\n",
       "      <th>21</th>\n",
       "      <td>Brooklyn</td>\n",
       "      <td>10</td>\n",
       "      <td>Bay Ridge, Dyker Heights</td>\n",
       "      <td>129822</td>\n",
       "      <td>118187</td>\n",
       "      <td>110612</td>\n",
       "      <td>122542</td>\n",
       "      <td>124491</td>\n",
       "    </tr>\n",
       "    <tr>\n",
       "      <th>22</th>\n",
       "      <td>Brooklyn</td>\n",
       "      <td>11</td>\n",
       "      <td>Bensonhurst, Bath Beach</td>\n",
       "      <td>170119</td>\n",
       "      <td>155072</td>\n",
       "      <td>149994</td>\n",
       "      <td>172129</td>\n",
       "      <td>181981</td>\n",
       "    </tr>\n",
       "    <tr>\n",
       "      <th>23</th>\n",
       "      <td>Brooklyn</td>\n",
       "      <td>12</td>\n",
       "      <td>Borough Park, Ocean Parkway</td>\n",
       "      <td>166301</td>\n",
       "      <td>155899</td>\n",
       "      <td>160018</td>\n",
       "      <td>185046</td>\n",
       "      <td>191382</td>\n",
       "    </tr>\n",
       "    <tr>\n",
       "      <th>24</th>\n",
       "      <td>Brooklyn</td>\n",
       "      <td>13</td>\n",
       "      <td>Coney Island, Brighton Beach</td>\n",
       "      <td>97750</td>\n",
       "      <td>100030</td>\n",
       "      <td>102596</td>\n",
       "      <td>106120</td>\n",
       "      <td>104278</td>\n",
       "    </tr>\n",
       "    <tr>\n",
       "      <th>25</th>\n",
       "      <td>Brooklyn</td>\n",
       "      <td>14</td>\n",
       "      <td>Flatbush, Midwood</td>\n",
       "      <td>137041</td>\n",
       "      <td>143859</td>\n",
       "      <td>159825</td>\n",
       "      <td>168806</td>\n",
       "      <td>160664</td>\n",
       "    </tr>\n",
       "    <tr>\n",
       "      <th>26</th>\n",
       "      <td>Brooklyn</td>\n",
       "      <td>15</td>\n",
       "      <td>Sheepshead Bay, Gerritsen Beach</td>\n",
       "      <td>164815</td>\n",
       "      <td>149572</td>\n",
       "      <td>143477</td>\n",
       "      <td>160319</td>\n",
       "      <td>159650</td>\n",
       "    </tr>\n",
       "    <tr>\n",
       "      <th>27</th>\n",
       "      <td>Brooklyn</td>\n",
       "      <td>16</td>\n",
       "      <td>Brownsville, Ocean Hill</td>\n",
       "      <td>122589</td>\n",
       "      <td>73801</td>\n",
       "      <td>84923</td>\n",
       "      <td>85343</td>\n",
       "      <td>86468</td>\n",
       "    </tr>\n",
       "    <tr>\n",
       "      <th>28</th>\n",
       "      <td>Brooklyn</td>\n",
       "      <td>17</td>\n",
       "      <td>East Flatbush, Rugby, Farragut</td>\n",
       "      <td>149496</td>\n",
       "      <td>154596</td>\n",
       "      <td>161261</td>\n",
       "      <td>165753</td>\n",
       "      <td>155252</td>\n",
       "    </tr>\n",
       "    <tr>\n",
       "      <th>29</th>\n",
       "      <td>Brooklyn</td>\n",
       "      <td>18</td>\n",
       "      <td>Canarsie, Flatlands</td>\n",
       "      <td>188643</td>\n",
       "      <td>169092</td>\n",
       "      <td>162428</td>\n",
       "      <td>194653</td>\n",
       "      <td>193543</td>\n",
       "    </tr>\n",
       "    <tr>\n",
       "      <th>30</th>\n",
       "      <td>Manhattan</td>\n",
       "      <td>1</td>\n",
       "      <td>Battery Park City, Tribeca</td>\n",
       "      <td>7706</td>\n",
       "      <td>15918</td>\n",
       "      <td>25366</td>\n",
       "      <td>34420</td>\n",
       "      <td>60978</td>\n",
       "    </tr>\n",
       "    <tr>\n",
       "      <th>31</th>\n",
       "      <td>Manhattan</td>\n",
       "      <td>2</td>\n",
       "      <td>Greenwich Village, Soho</td>\n",
       "      <td>84337</td>\n",
       "      <td>87069</td>\n",
       "      <td>94105</td>\n",
       "      <td>93119</td>\n",
       "      <td>90016</td>\n",
       "    </tr>\n",
       "    <tr>\n",
       "      <th>32</th>\n",
       "      <td>Manhattan</td>\n",
       "      <td>3</td>\n",
       "      <td>Lower East Side, Chinatown</td>\n",
       "      <td>181845</td>\n",
       "      <td>154848</td>\n",
       "      <td>161617</td>\n",
       "      <td>164407</td>\n",
       "      <td>163277</td>\n",
       "    </tr>\n",
       "    <tr>\n",
       "      <th>33</th>\n",
       "      <td>Manhattan</td>\n",
       "      <td>4</td>\n",
       "      <td>Chelsea, Clinton</td>\n",
       "      <td>83601</td>\n",
       "      <td>82164</td>\n",
       "      <td>84431</td>\n",
       "      <td>87479</td>\n",
       "      <td>103245</td>\n",
       "    </tr>\n",
       "    <tr>\n",
       "      <th>34</th>\n",
       "      <td>Manhattan</td>\n",
       "      <td>5</td>\n",
       "      <td>Midtown Business District</td>\n",
       "      <td>31076</td>\n",
       "      <td>39544</td>\n",
       "      <td>43507</td>\n",
       "      <td>44028</td>\n",
       "      <td>51673</td>\n",
       "    </tr>\n",
       "    <tr>\n",
       "      <th>35</th>\n",
       "      <td>Manhattan</td>\n",
       "      <td>6</td>\n",
       "      <td>Stuyvesant Town, Turtle Bay</td>\n",
       "      <td>122465</td>\n",
       "      <td>127554</td>\n",
       "      <td>133748</td>\n",
       "      <td>136152</td>\n",
       "      <td>142745</td>\n",
       "    </tr>\n",
       "    <tr>\n",
       "      <th>36</th>\n",
       "      <td>Manhattan</td>\n",
       "      <td>7</td>\n",
       "      <td>West Side, Upper West Side</td>\n",
       "      <td>212422</td>\n",
       "      <td>206669</td>\n",
       "      <td>210993</td>\n",
       "      <td>207699</td>\n",
       "      <td>209084</td>\n",
       "    </tr>\n",
       "    <tr>\n",
       "      <th>37</th>\n",
       "      <td>Manhattan</td>\n",
       "      <td>8</td>\n",
       "      <td>Upper East Side</td>\n",
       "      <td>200851</td>\n",
       "      <td>204305</td>\n",
       "      <td>210880</td>\n",
       "      <td>217063</td>\n",
       "      <td>219920</td>\n",
       "    </tr>\n",
       "    <tr>\n",
       "      <th>38</th>\n",
       "      <td>Manhattan</td>\n",
       "      <td>9</td>\n",
       "      <td>Manhattanville, Hamilton Heights</td>\n",
       "      <td>113606</td>\n",
       "      <td>103038</td>\n",
       "      <td>106978</td>\n",
       "      <td>111724</td>\n",
       "      <td>110193</td>\n",
       "    </tr>\n",
       "    <tr>\n",
       "      <th>39</th>\n",
       "      <td>Manhattan</td>\n",
       "      <td>10</td>\n",
       "      <td>Central Harlem</td>\n",
       "      <td>159267</td>\n",
       "      <td>105641</td>\n",
       "      <td>99519</td>\n",
       "      <td>107109</td>\n",
       "      <td>115723</td>\n",
       "    </tr>\n",
       "    <tr>\n",
       "      <th>40</th>\n",
       "      <td>Manhattan</td>\n",
       "      <td>11</td>\n",
       "      <td>East Harlem</td>\n",
       "      <td>154662</td>\n",
       "      <td>114569</td>\n",
       "      <td>110508</td>\n",
       "      <td>117743</td>\n",
       "      <td>120511</td>\n",
       "    </tr>\n",
       "    <tr>\n",
       "      <th>41</th>\n",
       "      <td>Manhattan</td>\n",
       "      <td>12</td>\n",
       "      <td>Washington Heights, Inwood</td>\n",
       "      <td>180561</td>\n",
       "      <td>179941</td>\n",
       "      <td>198192</td>\n",
       "      <td>208414</td>\n",
       "      <td>190020</td>\n",
       "    </tr>\n",
       "    <tr>\n",
       "      <th>42</th>\n",
       "      <td>Queens</td>\n",
       "      <td>1</td>\n",
       "      <td>Astoria, Long Island City</td>\n",
       "      <td>185925</td>\n",
       "      <td>185198</td>\n",
       "      <td>188549</td>\n",
       "      <td>211220</td>\n",
       "      <td>191105</td>\n",
       "    </tr>\n",
       "    <tr>\n",
       "      <th>43</th>\n",
       "      <td>Queens</td>\n",
       "      <td>2</td>\n",
       "      <td>Sunnyside, Woodside</td>\n",
       "      <td>95073</td>\n",
       "      <td>88927</td>\n",
       "      <td>94845</td>\n",
       "      <td>109920</td>\n",
       "      <td>113200</td>\n",
       "    </tr>\n",
       "    <tr>\n",
       "      <th>44</th>\n",
       "      <td>Queens</td>\n",
       "      <td>3</td>\n",
       "      <td>Jackson Heights, North Corona</td>\n",
       "      <td>123635</td>\n",
       "      <td>122090</td>\n",
       "      <td>128924</td>\n",
       "      <td>169083</td>\n",
       "      <td>171576</td>\n",
       "    </tr>\n",
       "    <tr>\n",
       "      <th>45</th>\n",
       "      <td>Queens</td>\n",
       "      <td>4</td>\n",
       "      <td>Elmhurst, South Corona</td>\n",
       "      <td>108233</td>\n",
       "      <td>118430</td>\n",
       "      <td>137023</td>\n",
       "      <td>167005</td>\n",
       "      <td>172598</td>\n",
       "    </tr>\n",
       "    <tr>\n",
       "      <th>46</th>\n",
       "      <td>Queens</td>\n",
       "      <td>5</td>\n",
       "      <td>Ridgewood, Glendale, Maspeth</td>\n",
       "      <td>161022</td>\n",
       "      <td>150142</td>\n",
       "      <td>149126</td>\n",
       "      <td>165911</td>\n",
       "      <td>169190</td>\n",
       "    </tr>\n",
       "    <tr>\n",
       "      <th>47</th>\n",
       "      <td>Queens</td>\n",
       "      <td>6</td>\n",
       "      <td>Forest Hills, Rego Park</td>\n",
       "      <td>120429</td>\n",
       "      <td>112245</td>\n",
       "      <td>106996</td>\n",
       "      <td>115967</td>\n",
       "      <td>113257</td>\n",
       "    </tr>\n",
       "    <tr>\n",
       "      <th>48</th>\n",
       "      <td>Queens</td>\n",
       "      <td>7</td>\n",
       "      <td>Flushing, Bay Terrace</td>\n",
       "      <td>207589</td>\n",
       "      <td>204785</td>\n",
       "      <td>220508</td>\n",
       "      <td>242952</td>\n",
       "      <td>247354</td>\n",
       "    </tr>\n",
       "    <tr>\n",
       "      <th>49</th>\n",
       "      <td>Queens</td>\n",
       "      <td>8</td>\n",
       "      <td>Fresh Meadows, Briarwood</td>\n",
       "      <td>142468</td>\n",
       "      <td>125312</td>\n",
       "      <td>132101</td>\n",
       "      <td>146594</td>\n",
       "      <td>151107</td>\n",
       "    </tr>\n",
       "    <tr>\n",
       "      <th>50</th>\n",
       "      <td>Queens</td>\n",
       "      <td>9</td>\n",
       "      <td>Woodhaven, Richmond Hill</td>\n",
       "      <td>110367</td>\n",
       "      <td>109505</td>\n",
       "      <td>112151</td>\n",
       "      <td>141608</td>\n",
       "      <td>143317</td>\n",
       "    </tr>\n",
       "    <tr>\n",
       "      <th>51</th>\n",
       "      <td>Queens</td>\n",
       "      <td>10</td>\n",
       "      <td>Ozone Park, Howard Beach</td>\n",
       "      <td>113857</td>\n",
       "      <td>105651</td>\n",
       "      <td>107768</td>\n",
       "      <td>127274</td>\n",
       "      <td>122396</td>\n",
       "    </tr>\n",
       "    <tr>\n",
       "      <th>52</th>\n",
       "      <td>Queens</td>\n",
       "      <td>11</td>\n",
       "      <td>Bayside, Douglaston, Little Neck</td>\n",
       "      <td>127883</td>\n",
       "      <td>110963</td>\n",
       "      <td>108056</td>\n",
       "      <td>116404</td>\n",
       "      <td>116431</td>\n",
       "    </tr>\n",
       "    <tr>\n",
       "      <th>53</th>\n",
       "      <td>Queens</td>\n",
       "      <td>12</td>\n",
       "      <td>Jamaica, St. Albans, Hollis</td>\n",
       "      <td>206639</td>\n",
       "      <td>189383</td>\n",
       "      <td>201293</td>\n",
       "      <td>223602</td>\n",
       "      <td>225919</td>\n",
       "    </tr>\n",
       "    <tr>\n",
       "      <th>54</th>\n",
       "      <td>Queens</td>\n",
       "      <td>13</td>\n",
       "      <td>Queens Village, Rosedale</td>\n",
       "      <td>184647</td>\n",
       "      <td>173178</td>\n",
       "      <td>177535</td>\n",
       "      <td>196284</td>\n",
       "      <td>188593</td>\n",
       "    </tr>\n",
       "    <tr>\n",
       "      <th>55</th>\n",
       "      <td>Queens</td>\n",
       "      <td>14</td>\n",
       "      <td>The Rockaways, Broad Channel</td>\n",
       "      <td>98228</td>\n",
       "      <td>100592</td>\n",
       "      <td>100596</td>\n",
       "      <td>106686</td>\n",
       "      <td>114978</td>\n",
       "    </tr>\n",
       "    <tr>\n",
       "      <th>56</th>\n",
       "      <td>Staten Island</td>\n",
       "      <td>1</td>\n",
       "      <td>Stapleton, Port Richmond</td>\n",
       "      <td>135875</td>\n",
       "      <td>138489</td>\n",
       "      <td>137806</td>\n",
       "      <td>162609</td>\n",
       "      <td>175756</td>\n",
       "    </tr>\n",
       "    <tr>\n",
       "      <th>57</th>\n",
       "      <td>Staten Island</td>\n",
       "      <td>2</td>\n",
       "      <td>New Springville, South Beach</td>\n",
       "      <td>85985</td>\n",
       "      <td>105128</td>\n",
       "      <td>113944</td>\n",
       "      <td>127071</td>\n",
       "      <td>132003</td>\n",
       "    </tr>\n",
       "    <tr>\n",
       "      <th>58</th>\n",
       "      <td>Staten Island</td>\n",
       "      <td>3</td>\n",
       "      <td>Tottenville, Woodrow, Great Kills</td>\n",
       "      <td>72815</td>\n",
       "      <td>108249</td>\n",
       "      <td>126956</td>\n",
       "      <td>152908</td>\n",
       "      <td>160209</td>\n",
       "    </tr>\n",
       "  </tbody>\n",
       "</table>\n",
       "</div>"
      ],
      "text/plain": [
       "          Borough  CD Number                              CD Name  \\\n",
       "0           Bronx          1     Melrose, Mott Haven, Port Morris   \n",
       "1           Bronx          2                Hunts Point, Longwood   \n",
       "2           Bronx          3        Morrisania, Crotona Park East   \n",
       "3           Bronx          4        Highbridge, Concourse Village   \n",
       "4           Bronx          5   University Hts., Fordham, Mt. Hope   \n",
       "5           Bronx          6                East Tremont, Belmont   \n",
       "6           Bronx          7       Bedford Park, Norwood, Fordham   \n",
       "7           Bronx          8  Riverdale, Kingsbridge, Marble Hill   \n",
       "8           Bronx          9               Soundview, Parkchester   \n",
       "9           Bronx         10   Throgs Nk., Co-op City, Pelham Bay   \n",
       "10          Bronx         11    Pelham Pkwy, Morris Park, Laconia   \n",
       "11          Bronx         12            Wakefield, Williamsbridge   \n",
       "12       Brooklyn          1             Williamsburg, Greenpoint   \n",
       "13       Brooklyn          2        Brooklyn Heights, Fort Greene   \n",
       "14       Brooklyn          3                   Bedford Stuyvesant   \n",
       "15       Brooklyn          4                             Bushwick   \n",
       "16       Brooklyn          5         East New York, Starrett City   \n",
       "17       Brooklyn          6          Park Slope, Carroll Gardens   \n",
       "18       Brooklyn          7         Sunset Park, Windsor Terrace   \n",
       "19       Brooklyn          8                  Crown Heights North   \n",
       "20       Brooklyn          9         Crown Heights South, Wingate   \n",
       "21       Brooklyn         10             Bay Ridge, Dyker Heights   \n",
       "22       Brooklyn         11             Bensonhurst, Bath Beach    \n",
       "23       Brooklyn         12          Borough Park, Ocean Parkway   \n",
       "24       Brooklyn         13         Coney Island, Brighton Beach   \n",
       "25       Brooklyn         14                    Flatbush, Midwood   \n",
       "26       Brooklyn         15      Sheepshead Bay, Gerritsen Beach   \n",
       "27       Brooklyn         16              Brownsville, Ocean Hill   \n",
       "28       Brooklyn         17       East Flatbush, Rugby, Farragut   \n",
       "29       Brooklyn         18                  Canarsie, Flatlands   \n",
       "30      Manhattan          1           Battery Park City, Tribeca   \n",
       "31      Manhattan          2              Greenwich Village, Soho   \n",
       "32      Manhattan          3           Lower East Side, Chinatown   \n",
       "33      Manhattan          4                     Chelsea, Clinton   \n",
       "34      Manhattan          5            Midtown Business District   \n",
       "35      Manhattan          6          Stuyvesant Town, Turtle Bay   \n",
       "36      Manhattan          7           West Side, Upper West Side   \n",
       "37      Manhattan          8                      Upper East Side   \n",
       "38      Manhattan          9     Manhattanville, Hamilton Heights   \n",
       "39      Manhattan         10                       Central Harlem   \n",
       "40      Manhattan         11                          East Harlem   \n",
       "41      Manhattan         12           Washington Heights, Inwood   \n",
       "42         Queens          1            Astoria, Long Island City   \n",
       "43         Queens          2                  Sunnyside, Woodside   \n",
       "44         Queens          3        Jackson Heights, North Corona   \n",
       "45         Queens          4               Elmhurst, South Corona   \n",
       "46         Queens          5         Ridgewood, Glendale, Maspeth   \n",
       "47         Queens          6              Forest Hills, Rego Park   \n",
       "48         Queens          7                Flushing, Bay Terrace   \n",
       "49         Queens          8             Fresh Meadows, Briarwood   \n",
       "50         Queens          9             Woodhaven, Richmond Hill   \n",
       "51         Queens         10             Ozone Park, Howard Beach   \n",
       "52         Queens         11     Bayside, Douglaston, Little Neck   \n",
       "53         Queens         12          Jamaica, St. Albans, Hollis   \n",
       "54         Queens         13             Queens Village, Rosedale   \n",
       "55         Queens         14         The Rockaways, Broad Channel   \n",
       "56  Staten Island          1             Stapleton, Port Richmond   \n",
       "57  Staten Island          2         New Springville, South Beach   \n",
       "58  Staten Island          3    Tottenville, Woodrow, Great Kills   \n",
       "\n",
       "    1970 Population  1980 Population  1990 Population  2000 Population  \\\n",
       "0            138557            78441            77214            82159   \n",
       "1             99493            34399            39443            46824   \n",
       "2            150636            53635            57162            68574   \n",
       "3            144207           114312           119962           139563   \n",
       "4            121807           107995           118435           128313   \n",
       "5            114137            65016            68061            75688   \n",
       "6            113764           116827           128588           141411   \n",
       "7            103543            98275            97030           101332   \n",
       "8            166442           167627           155970           167859   \n",
       "9             84948           106516           108093           115948   \n",
       "10           105980            99080            97842           110706   \n",
       "11           135010           128226           129620           149077   \n",
       "12           179390           142942           155972           160338   \n",
       "13           110221            92732            94534            98620   \n",
       "14           203380           133379           138696           143867   \n",
       "15           137902            92497           102572           104358   \n",
       "16           170791           154931           161350           173198   \n",
       "17           138933           110228           102724           104054   \n",
       "18           111607            98567           102553           120063   \n",
       "19           121821            88796            96400            96076   \n",
       "20           101047            96669           110715           104014   \n",
       "21           129822           118187           110612           122542   \n",
       "22           170119           155072           149994           172129   \n",
       "23           166301           155899           160018           185046   \n",
       "24            97750           100030           102596           106120   \n",
       "25           137041           143859           159825           168806   \n",
       "26           164815           149572           143477           160319   \n",
       "27           122589            73801            84923            85343   \n",
       "28           149496           154596           161261           165753   \n",
       "29           188643           169092           162428           194653   \n",
       "30             7706            15918            25366            34420   \n",
       "31            84337            87069            94105            93119   \n",
       "32           181845           154848           161617           164407   \n",
       "33            83601            82164            84431            87479   \n",
       "34            31076            39544            43507            44028   \n",
       "35           122465           127554           133748           136152   \n",
       "36           212422           206669           210993           207699   \n",
       "37           200851           204305           210880           217063   \n",
       "38           113606           103038           106978           111724   \n",
       "39           159267           105641            99519           107109   \n",
       "40           154662           114569           110508           117743   \n",
       "41           180561           179941           198192           208414   \n",
       "42           185925           185198           188549           211220   \n",
       "43            95073            88927            94845           109920   \n",
       "44           123635           122090           128924           169083   \n",
       "45           108233           118430           137023           167005   \n",
       "46           161022           150142           149126           165911   \n",
       "47           120429           112245           106996           115967   \n",
       "48           207589           204785           220508           242952   \n",
       "49           142468           125312           132101           146594   \n",
       "50           110367           109505           112151           141608   \n",
       "51           113857           105651           107768           127274   \n",
       "52           127883           110963           108056           116404   \n",
       "53           206639           189383           201293           223602   \n",
       "54           184647           173178           177535           196284   \n",
       "55            98228           100592           100596           106686   \n",
       "56           135875           138489           137806           162609   \n",
       "57            85985           105128           113944           127071   \n",
       "58            72815           108249           126956           152908   \n",
       "\n",
       "    2010 Population  \n",
       "0             91497  \n",
       "1             52246  \n",
       "2             79762  \n",
       "3            146441  \n",
       "4            128200  \n",
       "5             83268  \n",
       "6            139286  \n",
       "7            101731  \n",
       "8            172298  \n",
       "9            120392  \n",
       "10           113232  \n",
       "11           152344  \n",
       "12           173083  \n",
       "13            99617  \n",
       "14           152985  \n",
       "15           112634  \n",
       "16           182896  \n",
       "17           104709  \n",
       "18           126230  \n",
       "19            96317  \n",
       "20            98429  \n",
       "21           124491  \n",
       "22           181981  \n",
       "23           191382  \n",
       "24           104278  \n",
       "25           160664  \n",
       "26           159650  \n",
       "27            86468  \n",
       "28           155252  \n",
       "29           193543  \n",
       "30            60978  \n",
       "31            90016  \n",
       "32           163277  \n",
       "33           103245  \n",
       "34            51673  \n",
       "35           142745  \n",
       "36           209084  \n",
       "37           219920  \n",
       "38           110193  \n",
       "39           115723  \n",
       "40           120511  \n",
       "41           190020  \n",
       "42           191105  \n",
       "43           113200  \n",
       "44           171576  \n",
       "45           172598  \n",
       "46           169190  \n",
       "47           113257  \n",
       "48           247354  \n",
       "49           151107  \n",
       "50           143317  \n",
       "51           122396  \n",
       "52           116431  \n",
       "53           225919  \n",
       "54           188593  \n",
       "55           114978  \n",
       "56           175756  \n",
       "57           132003  \n",
       "58           160209  "
      ]
     },
     "execution_count": 1,
     "metadata": {},
     "output_type": "execute_result"
    }
   ],
   "source": [
    "import pandas as pd\n",
    "pop_by_cd = pd.read_csv(\"/Users/chuhanzou/Desktop/lab10/New_York_City_Population_By_Community_Districts.csv\")\n",
    "pop_by_cd"
   ]
  },
  {
   "cell_type": "markdown",
   "metadata": {
    "editable": true,
    "slideshow": {
     "slide_type": ""
    },
    "tags": []
   },
   "source": [
    "## Step 1\n",
    "\n",
    "Prepare the data. Use the following code to [reshape](https://pandas.pydata.org/pandas-docs/stable/user_guide/reshaping.html#melt-and-wide-to-long) the DataFrame to have one row per community district per Census year."
   ]
  },
  {
   "cell_type": "code",
   "execution_count": 55,
   "metadata": {
    "editable": true,
    "slideshow": {
     "slide_type": ""
    },
    "tags": []
   },
   "outputs": [
    {
     "data": {
      "text/html": [
       "<div>\n",
       "<style scoped>\n",
       "    .dataframe tbody tr th:only-of-type {\n",
       "        vertical-align: middle;\n",
       "    }\n",
       "\n",
       "    .dataframe tbody tr th {\n",
       "        vertical-align: top;\n",
       "    }\n",
       "\n",
       "    .dataframe thead th {\n",
       "        text-align: right;\n",
       "    }\n",
       "</style>\n",
       "<table border=\"1\" class=\"dataframe\">\n",
       "  <thead>\n",
       "    <tr style=\"text-align: right;\">\n",
       "      <th></th>\n",
       "      <th>Borough</th>\n",
       "      <th>CD Number</th>\n",
       "      <th>CD Name</th>\n",
       "      <th>year</th>\n",
       "      <th>population</th>\n",
       "    </tr>\n",
       "  </thead>\n",
       "  <tbody>\n",
       "    <tr>\n",
       "      <th>0</th>\n",
       "      <td>Bronx</td>\n",
       "      <td>1</td>\n",
       "      <td>Melrose, Mott Haven, Port Morris</td>\n",
       "      <td>1970</td>\n",
       "      <td>138557</td>\n",
       "    </tr>\n",
       "    <tr>\n",
       "      <th>1</th>\n",
       "      <td>Bronx</td>\n",
       "      <td>2</td>\n",
       "      <td>Hunts Point, Longwood</td>\n",
       "      <td>1970</td>\n",
       "      <td>99493</td>\n",
       "    </tr>\n",
       "    <tr>\n",
       "      <th>2</th>\n",
       "      <td>Bronx</td>\n",
       "      <td>3</td>\n",
       "      <td>Morrisania, Crotona Park East</td>\n",
       "      <td>1970</td>\n",
       "      <td>150636</td>\n",
       "    </tr>\n",
       "    <tr>\n",
       "      <th>3</th>\n",
       "      <td>Bronx</td>\n",
       "      <td>4</td>\n",
       "      <td>Highbridge, Concourse Village</td>\n",
       "      <td>1970</td>\n",
       "      <td>144207</td>\n",
       "    </tr>\n",
       "    <tr>\n",
       "      <th>4</th>\n",
       "      <td>Bronx</td>\n",
       "      <td>5</td>\n",
       "      <td>University Hts., Fordham, Mt. Hope</td>\n",
       "      <td>1970</td>\n",
       "      <td>121807</td>\n",
       "    </tr>\n",
       "    <tr>\n",
       "      <th>...</th>\n",
       "      <td>...</td>\n",
       "      <td>...</td>\n",
       "      <td>...</td>\n",
       "      <td>...</td>\n",
       "      <td>...</td>\n",
       "    </tr>\n",
       "    <tr>\n",
       "      <th>290</th>\n",
       "      <td>Queens</td>\n",
       "      <td>13</td>\n",
       "      <td>Queens Village, Rosedale</td>\n",
       "      <td>2010</td>\n",
       "      <td>188593</td>\n",
       "    </tr>\n",
       "    <tr>\n",
       "      <th>291</th>\n",
       "      <td>Queens</td>\n",
       "      <td>14</td>\n",
       "      <td>The Rockaways, Broad Channel</td>\n",
       "      <td>2010</td>\n",
       "      <td>114978</td>\n",
       "    </tr>\n",
       "    <tr>\n",
       "      <th>292</th>\n",
       "      <td>Staten Island</td>\n",
       "      <td>1</td>\n",
       "      <td>Stapleton, Port Richmond</td>\n",
       "      <td>2010</td>\n",
       "      <td>175756</td>\n",
       "    </tr>\n",
       "    <tr>\n",
       "      <th>293</th>\n",
       "      <td>Staten Island</td>\n",
       "      <td>2</td>\n",
       "      <td>New Springville, South Beach</td>\n",
       "      <td>2010</td>\n",
       "      <td>132003</td>\n",
       "    </tr>\n",
       "    <tr>\n",
       "      <th>294</th>\n",
       "      <td>Staten Island</td>\n",
       "      <td>3</td>\n",
       "      <td>Tottenville, Woodrow, Great Kills</td>\n",
       "      <td>2010</td>\n",
       "      <td>160209</td>\n",
       "    </tr>\n",
       "  </tbody>\n",
       "</table>\n",
       "<p>295 rows × 5 columns</p>\n",
       "</div>"
      ],
      "text/plain": [
       "           Borough  CD Number                             CD Name  year  \\\n",
       "0            Bronx          1    Melrose, Mott Haven, Port Morris  1970   \n",
       "1            Bronx          2               Hunts Point, Longwood  1970   \n",
       "2            Bronx          3       Morrisania, Crotona Park East  1970   \n",
       "3            Bronx          4       Highbridge, Concourse Village  1970   \n",
       "4            Bronx          5  University Hts., Fordham, Mt. Hope  1970   \n",
       "..             ...        ...                                 ...   ...   \n",
       "290         Queens         13            Queens Village, Rosedale  2010   \n",
       "291         Queens         14        The Rockaways, Broad Channel  2010   \n",
       "292  Staten Island          1            Stapleton, Port Richmond  2010   \n",
       "293  Staten Island          2        New Springville, South Beach  2010   \n",
       "294  Staten Island          3   Tottenville, Woodrow, Great Kills  2010   \n",
       "\n",
       "     population  \n",
       "0        138557  \n",
       "1         99493  \n",
       "2        150636  \n",
       "3        144207  \n",
       "4        121807  \n",
       "..          ...  \n",
       "290      188593  \n",
       "291      114978  \n",
       "292      175756  \n",
       "293      132003  \n",
       "294      160209  \n",
       "\n",
       "[295 rows x 5 columns]"
      ]
     },
     "execution_count": 55,
     "metadata": {},
     "output_type": "execute_result"
    }
   ],
   "source": [
    "# turn the population columns into rows\n",
    "populations = pd.melt(\n",
    "    pop_by_cd,\n",
    "    id_vars=[\"Borough\", \"CD Number\", \"CD Name\"],\n",
    "    var_name=\"year\",\n",
    "    value_name=\"population\",\n",
    ")\n",
    "\n",
    "# turn the years into numbers\n",
    "populations.year = populations.year.str.replace(\" Population\", \"\").astype(int)\n",
    "\n",
    "populations"
   ]
  },
  {
   "cell_type": "code",
   "execution_count": 7,
   "metadata": {},
   "outputs": [
    {
     "data": {
      "text/html": [
       "<div>\n",
       "<style scoped>\n",
       "    .dataframe tbody tr th:only-of-type {\n",
       "        vertical-align: middle;\n",
       "    }\n",
       "\n",
       "    .dataframe tbody tr th {\n",
       "        vertical-align: top;\n",
       "    }\n",
       "\n",
       "    .dataframe thead th {\n",
       "        text-align: right;\n",
       "    }\n",
       "</style>\n",
       "<table border=\"1\" class=\"dataframe\">\n",
       "  <thead>\n",
       "    <tr style=\"text-align: right;\">\n",
       "      <th></th>\n",
       "      <th>Borough</th>\n",
       "      <th>CD Number</th>\n",
       "      <th>CD Name</th>\n",
       "      <th>year</th>\n",
       "      <th>population</th>\n",
       "    </tr>\n",
       "  </thead>\n",
       "  <tbody>\n",
       "    <tr>\n",
       "      <th>1</th>\n",
       "      <td>Bronx</td>\n",
       "      <td>2</td>\n",
       "      <td>Hunts Point, Longwood</td>\n",
       "      <td>1970</td>\n",
       "      <td>99493</td>\n",
       "    </tr>\n",
       "    <tr>\n",
       "      <th>60</th>\n",
       "      <td>Bronx</td>\n",
       "      <td>2</td>\n",
       "      <td>Hunts Point, Longwood</td>\n",
       "      <td>1980</td>\n",
       "      <td>34399</td>\n",
       "    </tr>\n",
       "    <tr>\n",
       "      <th>119</th>\n",
       "      <td>Bronx</td>\n",
       "      <td>2</td>\n",
       "      <td>Hunts Point, Longwood</td>\n",
       "      <td>1990</td>\n",
       "      <td>39443</td>\n",
       "    </tr>\n",
       "    <tr>\n",
       "      <th>178</th>\n",
       "      <td>Bronx</td>\n",
       "      <td>2</td>\n",
       "      <td>Hunts Point, Longwood</td>\n",
       "      <td>2000</td>\n",
       "      <td>46824</td>\n",
       "    </tr>\n",
       "    <tr>\n",
       "      <th>237</th>\n",
       "      <td>Bronx</td>\n",
       "      <td>2</td>\n",
       "      <td>Hunts Point, Longwood</td>\n",
       "      <td>2010</td>\n",
       "      <td>52246</td>\n",
       "    </tr>\n",
       "    <tr>\n",
       "      <th>0</th>\n",
       "      <td>Bronx</td>\n",
       "      <td>1</td>\n",
       "      <td>Melrose, Mott Haven, Port Morris</td>\n",
       "      <td>1970</td>\n",
       "      <td>138557</td>\n",
       "    </tr>\n",
       "    <tr>\n",
       "      <th>59</th>\n",
       "      <td>Bronx</td>\n",
       "      <td>1</td>\n",
       "      <td>Melrose, Mott Haven, Port Morris</td>\n",
       "      <td>1980</td>\n",
       "      <td>78441</td>\n",
       "    </tr>\n",
       "    <tr>\n",
       "      <th>118</th>\n",
       "      <td>Bronx</td>\n",
       "      <td>1</td>\n",
       "      <td>Melrose, Mott Haven, Port Morris</td>\n",
       "      <td>1990</td>\n",
       "      <td>77214</td>\n",
       "    </tr>\n",
       "    <tr>\n",
       "      <th>177</th>\n",
       "      <td>Bronx</td>\n",
       "      <td>1</td>\n",
       "      <td>Melrose, Mott Haven, Port Morris</td>\n",
       "      <td>2000</td>\n",
       "      <td>82159</td>\n",
       "    </tr>\n",
       "    <tr>\n",
       "      <th>236</th>\n",
       "      <td>Bronx</td>\n",
       "      <td>1</td>\n",
       "      <td>Melrose, Mott Haven, Port Morris</td>\n",
       "      <td>2010</td>\n",
       "      <td>91497</td>\n",
       "    </tr>\n",
       "  </tbody>\n",
       "</table>\n",
       "</div>"
      ],
      "text/plain": [
       "    Borough  CD Number                           CD Name  year  population\n",
       "1     Bronx          2             Hunts Point, Longwood  1970       99493\n",
       "60    Bronx          2             Hunts Point, Longwood  1980       34399\n",
       "119   Bronx          2             Hunts Point, Longwood  1990       39443\n",
       "178   Bronx          2             Hunts Point, Longwood  2000       46824\n",
       "237   Bronx          2             Hunts Point, Longwood  2010       52246\n",
       "0     Bronx          1  Melrose, Mott Haven, Port Morris  1970      138557\n",
       "59    Bronx          1  Melrose, Mott Haven, Port Morris  1980       78441\n",
       "118   Bronx          1  Melrose, Mott Haven, Port Morris  1990       77214\n",
       "177   Bronx          1  Melrose, Mott Haven, Port Morris  2000       82159\n",
       "236   Bronx          1  Melrose, Mott Haven, Port Morris  2010       91497"
      ]
     },
     "execution_count": 7,
     "metadata": {},
     "output_type": "execute_result"
    }
   ],
   "source": [
    "pd2 = populations[(populations[\"CD Name\"] == \"Melrose, Mott Haven, Port Morris\") | (populations[\"CD Name\"] == \"Hunts Point, Longwood\")]\n",
    "pd2.sort_values([\"CD Name\", \"year\"])"
   ]
  },
  {
   "cell_type": "markdown",
   "metadata": {
    "editable": true,
    "slideshow": {
     "slide_type": ""
    },
    "tags": []
   },
   "source": [
    "## Step 2\n",
    "\n",
    "Create a line chart of the population over time for each community district in Manhattan. There should be [one line for each](https://plotly.com/python/line-charts/#Line-Plots-with-column-encoding-color).\n",
    "1. creat a data frame which only includes Mahattan\n",
    "2. `import plotly.express as px`\n",
    "3. `px.line()`\n"
   ]
  },
  {
   "cell_type": "code",
   "execution_count": 9,
   "metadata": {
    "editable": true,
    "scrolled": true,
    "slideshow": {
     "slide_type": ""
    },
    "tags": [
     "solution"
    ]
   },
   "outputs": [
    {
     "data": {
      "application/vnd.plotly.v1+json": {
       "config": {
        "plotlyServerURL": "https://plot.ly"
       },
       "data": [
        {
         "hovertemplate": "CD Name=Battery Park City, Tribeca<br>year=%{x}<br>population=%{y}<extra></extra>",
         "legendgroup": "Battery Park City, Tribeca",
         "line": {
          "color": "#636efa",
          "dash": "solid"
         },
         "marker": {
          "symbol": "circle"
         },
         "mode": "lines",
         "name": "Battery Park City, Tribeca",
         "orientation": "v",
         "showlegend": true,
         "type": "scatter",
         "x": [
          1970,
          1980,
          1990,
          2000,
          2010
         ],
         "xaxis": "x",
         "y": [
          7706,
          15918,
          25366,
          34420,
          60978
         ],
         "yaxis": "y"
        },
        {
         "hovertemplate": "CD Name=Greenwich Village, Soho<br>year=%{x}<br>population=%{y}<extra></extra>",
         "legendgroup": "Greenwich Village, Soho",
         "line": {
          "color": "#EF553B",
          "dash": "solid"
         },
         "marker": {
          "symbol": "circle"
         },
         "mode": "lines",
         "name": "Greenwich Village, Soho",
         "orientation": "v",
         "showlegend": true,
         "type": "scatter",
         "x": [
          1970,
          1980,
          1990,
          2000,
          2010
         ],
         "xaxis": "x",
         "y": [
          84337,
          87069,
          94105,
          93119,
          90016
         ],
         "yaxis": "y"
        },
        {
         "hovertemplate": "CD Name=Lower East Side, Chinatown<br>year=%{x}<br>population=%{y}<extra></extra>",
         "legendgroup": "Lower East Side, Chinatown",
         "line": {
          "color": "#00cc96",
          "dash": "solid"
         },
         "marker": {
          "symbol": "circle"
         },
         "mode": "lines",
         "name": "Lower East Side, Chinatown",
         "orientation": "v",
         "showlegend": true,
         "type": "scatter",
         "x": [
          1970,
          1980,
          1990,
          2000,
          2010
         ],
         "xaxis": "x",
         "y": [
          181845,
          154848,
          161617,
          164407,
          163277
         ],
         "yaxis": "y"
        },
        {
         "hovertemplate": "CD Name=Chelsea, Clinton<br>year=%{x}<br>population=%{y}<extra></extra>",
         "legendgroup": "Chelsea, Clinton",
         "line": {
          "color": "#ab63fa",
          "dash": "solid"
         },
         "marker": {
          "symbol": "circle"
         },
         "mode": "lines",
         "name": "Chelsea, Clinton",
         "orientation": "v",
         "showlegend": true,
         "type": "scatter",
         "x": [
          1970,
          1980,
          1990,
          2000,
          2010
         ],
         "xaxis": "x",
         "y": [
          83601,
          82164,
          84431,
          87479,
          103245
         ],
         "yaxis": "y"
        },
        {
         "hovertemplate": "CD Name=Midtown Business District<br>year=%{x}<br>population=%{y}<extra></extra>",
         "legendgroup": "Midtown Business District",
         "line": {
          "color": "#FFA15A",
          "dash": "solid"
         },
         "marker": {
          "symbol": "circle"
         },
         "mode": "lines",
         "name": "Midtown Business District",
         "orientation": "v",
         "showlegend": true,
         "type": "scatter",
         "x": [
          1970,
          1980,
          1990,
          2000,
          2010
         ],
         "xaxis": "x",
         "y": [
          31076,
          39544,
          43507,
          44028,
          51673
         ],
         "yaxis": "y"
        },
        {
         "hovertemplate": "CD Name=Stuyvesant Town, Turtle Bay<br>year=%{x}<br>population=%{y}<extra></extra>",
         "legendgroup": "Stuyvesant Town, Turtle Bay",
         "line": {
          "color": "#19d3f3",
          "dash": "solid"
         },
         "marker": {
          "symbol": "circle"
         },
         "mode": "lines",
         "name": "Stuyvesant Town, Turtle Bay",
         "orientation": "v",
         "showlegend": true,
         "type": "scatter",
         "x": [
          1970,
          1980,
          1990,
          2000,
          2010
         ],
         "xaxis": "x",
         "y": [
          122465,
          127554,
          133748,
          136152,
          142745
         ],
         "yaxis": "y"
        },
        {
         "hovertemplate": "CD Name=West Side, Upper West Side<br>year=%{x}<br>population=%{y}<extra></extra>",
         "legendgroup": "West Side, Upper West Side",
         "line": {
          "color": "#FF6692",
          "dash": "solid"
         },
         "marker": {
          "symbol": "circle"
         },
         "mode": "lines",
         "name": "West Side, Upper West Side",
         "orientation": "v",
         "showlegend": true,
         "type": "scatter",
         "x": [
          1970,
          1980,
          1990,
          2000,
          2010
         ],
         "xaxis": "x",
         "y": [
          212422,
          206669,
          210993,
          207699,
          209084
         ],
         "yaxis": "y"
        },
        {
         "hovertemplate": "CD Name=Upper East Side<br>year=%{x}<br>population=%{y}<extra></extra>",
         "legendgroup": "Upper East Side",
         "line": {
          "color": "#B6E880",
          "dash": "solid"
         },
         "marker": {
          "symbol": "circle"
         },
         "mode": "lines",
         "name": "Upper East Side",
         "orientation": "v",
         "showlegend": true,
         "type": "scatter",
         "x": [
          1970,
          1980,
          1990,
          2000,
          2010
         ],
         "xaxis": "x",
         "y": [
          200851,
          204305,
          210880,
          217063,
          219920
         ],
         "yaxis": "y"
        },
        {
         "hovertemplate": "CD Name=Manhattanville, Hamilton Heights<br>year=%{x}<br>population=%{y}<extra></extra>",
         "legendgroup": "Manhattanville, Hamilton Heights",
         "line": {
          "color": "#FF97FF",
          "dash": "solid"
         },
         "marker": {
          "symbol": "circle"
         },
         "mode": "lines",
         "name": "Manhattanville, Hamilton Heights",
         "orientation": "v",
         "showlegend": true,
         "type": "scatter",
         "x": [
          1970,
          1980,
          1990,
          2000,
          2010
         ],
         "xaxis": "x",
         "y": [
          113606,
          103038,
          106978,
          111724,
          110193
         ],
         "yaxis": "y"
        },
        {
         "hovertemplate": "CD Name=Central Harlem<br>year=%{x}<br>population=%{y}<extra></extra>",
         "legendgroup": "Central Harlem",
         "line": {
          "color": "#FECB52",
          "dash": "solid"
         },
         "marker": {
          "symbol": "circle"
         },
         "mode": "lines",
         "name": "Central Harlem",
         "orientation": "v",
         "showlegend": true,
         "type": "scatter",
         "x": [
          1970,
          1980,
          1990,
          2000,
          2010
         ],
         "xaxis": "x",
         "y": [
          159267,
          105641,
          99519,
          107109,
          115723
         ],
         "yaxis": "y"
        },
        {
         "hovertemplate": "CD Name=East Harlem<br>year=%{x}<br>population=%{y}<extra></extra>",
         "legendgroup": "East Harlem",
         "line": {
          "color": "#636efa",
          "dash": "solid"
         },
         "marker": {
          "symbol": "circle"
         },
         "mode": "lines",
         "name": "East Harlem",
         "orientation": "v",
         "showlegend": true,
         "type": "scatter",
         "x": [
          1970,
          1980,
          1990,
          2000,
          2010
         ],
         "xaxis": "x",
         "y": [
          154662,
          114569,
          110508,
          117743,
          120511
         ],
         "yaxis": "y"
        },
        {
         "hovertemplate": "CD Name=Washington Heights, Inwood<br>year=%{x}<br>population=%{y}<extra></extra>",
         "legendgroup": "Washington Heights, Inwood",
         "line": {
          "color": "#EF553B",
          "dash": "solid"
         },
         "marker": {
          "symbol": "circle"
         },
         "mode": "lines",
         "name": "Washington Heights, Inwood",
         "orientation": "v",
         "showlegend": true,
         "type": "scatter",
         "x": [
          1970,
          1980,
          1990,
          2000,
          2010
         ],
         "xaxis": "x",
         "y": [
          180561,
          179941,
          198192,
          208414,
          190020
         ],
         "yaxis": "y"
        }
       ],
       "layout": {
        "autosize": true,
        "legend": {
         "title": {
          "text": "CD Name"
         },
         "tracegroupgap": 0
        },
        "margin": {
         "t": 60
        },
        "template": {
         "data": {
          "bar": [
           {
            "error_x": {
             "color": "#2a3f5f"
            },
            "error_y": {
             "color": "#2a3f5f"
            },
            "marker": {
             "line": {
              "color": "#E5ECF6",
              "width": 0.5
             },
             "pattern": {
              "fillmode": "overlay",
              "size": 10,
              "solidity": 0.2
             }
            },
            "type": "bar"
           }
          ],
          "barpolar": [
           {
            "marker": {
             "line": {
              "color": "#E5ECF6",
              "width": 0.5
             },
             "pattern": {
              "fillmode": "overlay",
              "size": 10,
              "solidity": 0.2
             }
            },
            "type": "barpolar"
           }
          ],
          "carpet": [
           {
            "aaxis": {
             "endlinecolor": "#2a3f5f",
             "gridcolor": "white",
             "linecolor": "white",
             "minorgridcolor": "white",
             "startlinecolor": "#2a3f5f"
            },
            "baxis": {
             "endlinecolor": "#2a3f5f",
             "gridcolor": "white",
             "linecolor": "white",
             "minorgridcolor": "white",
             "startlinecolor": "#2a3f5f"
            },
            "type": "carpet"
           }
          ],
          "choropleth": [
           {
            "colorbar": {
             "outlinewidth": 0,
             "ticks": ""
            },
            "type": "choropleth"
           }
          ],
          "contour": [
           {
            "colorbar": {
             "outlinewidth": 0,
             "ticks": ""
            },
            "colorscale": [
             [
              0,
              "#0d0887"
             ],
             [
              0.1111111111111111,
              "#46039f"
             ],
             [
              0.2222222222222222,
              "#7201a8"
             ],
             [
              0.3333333333333333,
              "#9c179e"
             ],
             [
              0.4444444444444444,
              "#bd3786"
             ],
             [
              0.5555555555555556,
              "#d8576b"
             ],
             [
              0.6666666666666666,
              "#ed7953"
             ],
             [
              0.7777777777777778,
              "#fb9f3a"
             ],
             [
              0.8888888888888888,
              "#fdca26"
             ],
             [
              1,
              "#f0f921"
             ]
            ],
            "type": "contour"
           }
          ],
          "contourcarpet": [
           {
            "colorbar": {
             "outlinewidth": 0,
             "ticks": ""
            },
            "type": "contourcarpet"
           }
          ],
          "heatmap": [
           {
            "colorbar": {
             "outlinewidth": 0,
             "ticks": ""
            },
            "colorscale": [
             [
              0,
              "#0d0887"
             ],
             [
              0.1111111111111111,
              "#46039f"
             ],
             [
              0.2222222222222222,
              "#7201a8"
             ],
             [
              0.3333333333333333,
              "#9c179e"
             ],
             [
              0.4444444444444444,
              "#bd3786"
             ],
             [
              0.5555555555555556,
              "#d8576b"
             ],
             [
              0.6666666666666666,
              "#ed7953"
             ],
             [
              0.7777777777777778,
              "#fb9f3a"
             ],
             [
              0.8888888888888888,
              "#fdca26"
             ],
             [
              1,
              "#f0f921"
             ]
            ],
            "type": "heatmap"
           }
          ],
          "heatmapgl": [
           {
            "colorbar": {
             "outlinewidth": 0,
             "ticks": ""
            },
            "colorscale": [
             [
              0,
              "#0d0887"
             ],
             [
              0.1111111111111111,
              "#46039f"
             ],
             [
              0.2222222222222222,
              "#7201a8"
             ],
             [
              0.3333333333333333,
              "#9c179e"
             ],
             [
              0.4444444444444444,
              "#bd3786"
             ],
             [
              0.5555555555555556,
              "#d8576b"
             ],
             [
              0.6666666666666666,
              "#ed7953"
             ],
             [
              0.7777777777777778,
              "#fb9f3a"
             ],
             [
              0.8888888888888888,
              "#fdca26"
             ],
             [
              1,
              "#f0f921"
             ]
            ],
            "type": "heatmapgl"
           }
          ],
          "histogram": [
           {
            "marker": {
             "pattern": {
              "fillmode": "overlay",
              "size": 10,
              "solidity": 0.2
             }
            },
            "type": "histogram"
           }
          ],
          "histogram2d": [
           {
            "colorbar": {
             "outlinewidth": 0,
             "ticks": ""
            },
            "colorscale": [
             [
              0,
              "#0d0887"
             ],
             [
              0.1111111111111111,
              "#46039f"
             ],
             [
              0.2222222222222222,
              "#7201a8"
             ],
             [
              0.3333333333333333,
              "#9c179e"
             ],
             [
              0.4444444444444444,
              "#bd3786"
             ],
             [
              0.5555555555555556,
              "#d8576b"
             ],
             [
              0.6666666666666666,
              "#ed7953"
             ],
             [
              0.7777777777777778,
              "#fb9f3a"
             ],
             [
              0.8888888888888888,
              "#fdca26"
             ],
             [
              1,
              "#f0f921"
             ]
            ],
            "type": "histogram2d"
           }
          ],
          "histogram2dcontour": [
           {
            "colorbar": {
             "outlinewidth": 0,
             "ticks": ""
            },
            "colorscale": [
             [
              0,
              "#0d0887"
             ],
             [
              0.1111111111111111,
              "#46039f"
             ],
             [
              0.2222222222222222,
              "#7201a8"
             ],
             [
              0.3333333333333333,
              "#9c179e"
             ],
             [
              0.4444444444444444,
              "#bd3786"
             ],
             [
              0.5555555555555556,
              "#d8576b"
             ],
             [
              0.6666666666666666,
              "#ed7953"
             ],
             [
              0.7777777777777778,
              "#fb9f3a"
             ],
             [
              0.8888888888888888,
              "#fdca26"
             ],
             [
              1,
              "#f0f921"
             ]
            ],
            "type": "histogram2dcontour"
           }
          ],
          "mesh3d": [
           {
            "colorbar": {
             "outlinewidth": 0,
             "ticks": ""
            },
            "type": "mesh3d"
           }
          ],
          "parcoords": [
           {
            "line": {
             "colorbar": {
              "outlinewidth": 0,
              "ticks": ""
             }
            },
            "type": "parcoords"
           }
          ],
          "pie": [
           {
            "automargin": true,
            "type": "pie"
           }
          ],
          "scatter": [
           {
            "fillpattern": {
             "fillmode": "overlay",
             "size": 10,
             "solidity": 0.2
            },
            "type": "scatter"
           }
          ],
          "scatter3d": [
           {
            "line": {
             "colorbar": {
              "outlinewidth": 0,
              "ticks": ""
             }
            },
            "marker": {
             "colorbar": {
              "outlinewidth": 0,
              "ticks": ""
             }
            },
            "type": "scatter3d"
           }
          ],
          "scattercarpet": [
           {
            "marker": {
             "colorbar": {
              "outlinewidth": 0,
              "ticks": ""
             }
            },
            "type": "scattercarpet"
           }
          ],
          "scattergeo": [
           {
            "marker": {
             "colorbar": {
              "outlinewidth": 0,
              "ticks": ""
             }
            },
            "type": "scattergeo"
           }
          ],
          "scattergl": [
           {
            "marker": {
             "colorbar": {
              "outlinewidth": 0,
              "ticks": ""
             }
            },
            "type": "scattergl"
           }
          ],
          "scattermapbox": [
           {
            "marker": {
             "colorbar": {
              "outlinewidth": 0,
              "ticks": ""
             }
            },
            "type": "scattermapbox"
           }
          ],
          "scatterpolar": [
           {
            "marker": {
             "colorbar": {
              "outlinewidth": 0,
              "ticks": ""
             }
            },
            "type": "scatterpolar"
           }
          ],
          "scatterpolargl": [
           {
            "marker": {
             "colorbar": {
              "outlinewidth": 0,
              "ticks": ""
             }
            },
            "type": "scatterpolargl"
           }
          ],
          "scatterternary": [
           {
            "marker": {
             "colorbar": {
              "outlinewidth": 0,
              "ticks": ""
             }
            },
            "type": "scatterternary"
           }
          ],
          "surface": [
           {
            "colorbar": {
             "outlinewidth": 0,
             "ticks": ""
            },
            "colorscale": [
             [
              0,
              "#0d0887"
             ],
             [
              0.1111111111111111,
              "#46039f"
             ],
             [
              0.2222222222222222,
              "#7201a8"
             ],
             [
              0.3333333333333333,
              "#9c179e"
             ],
             [
              0.4444444444444444,
              "#bd3786"
             ],
             [
              0.5555555555555556,
              "#d8576b"
             ],
             [
              0.6666666666666666,
              "#ed7953"
             ],
             [
              0.7777777777777778,
              "#fb9f3a"
             ],
             [
              0.8888888888888888,
              "#fdca26"
             ],
             [
              1,
              "#f0f921"
             ]
            ],
            "type": "surface"
           }
          ],
          "table": [
           {
            "cells": {
             "fill": {
              "color": "#EBF0F8"
             },
             "line": {
              "color": "white"
             }
            },
            "header": {
             "fill": {
              "color": "#C8D4E3"
             },
             "line": {
              "color": "white"
             }
            },
            "type": "table"
           }
          ]
         },
         "layout": {
          "annotationdefaults": {
           "arrowcolor": "#2a3f5f",
           "arrowhead": 0,
           "arrowwidth": 1
          },
          "autotypenumbers": "strict",
          "coloraxis": {
           "colorbar": {
            "outlinewidth": 0,
            "ticks": ""
           }
          },
          "colorscale": {
           "diverging": [
            [
             0,
             "#8e0152"
            ],
            [
             0.1,
             "#c51b7d"
            ],
            [
             0.2,
             "#de77ae"
            ],
            [
             0.3,
             "#f1b6da"
            ],
            [
             0.4,
             "#fde0ef"
            ],
            [
             0.5,
             "#f7f7f7"
            ],
            [
             0.6,
             "#e6f5d0"
            ],
            [
             0.7,
             "#b8e186"
            ],
            [
             0.8,
             "#7fbc41"
            ],
            [
             0.9,
             "#4d9221"
            ],
            [
             1,
             "#276419"
            ]
           ],
           "sequential": [
            [
             0,
             "#0d0887"
            ],
            [
             0.1111111111111111,
             "#46039f"
            ],
            [
             0.2222222222222222,
             "#7201a8"
            ],
            [
             0.3333333333333333,
             "#9c179e"
            ],
            [
             0.4444444444444444,
             "#bd3786"
            ],
            [
             0.5555555555555556,
             "#d8576b"
            ],
            [
             0.6666666666666666,
             "#ed7953"
            ],
            [
             0.7777777777777778,
             "#fb9f3a"
            ],
            [
             0.8888888888888888,
             "#fdca26"
            ],
            [
             1,
             "#f0f921"
            ]
           ],
           "sequentialminus": [
            [
             0,
             "#0d0887"
            ],
            [
             0.1111111111111111,
             "#46039f"
            ],
            [
             0.2222222222222222,
             "#7201a8"
            ],
            [
             0.3333333333333333,
             "#9c179e"
            ],
            [
             0.4444444444444444,
             "#bd3786"
            ],
            [
             0.5555555555555556,
             "#d8576b"
            ],
            [
             0.6666666666666666,
             "#ed7953"
            ],
            [
             0.7777777777777778,
             "#fb9f3a"
            ],
            [
             0.8888888888888888,
             "#fdca26"
            ],
            [
             1,
             "#f0f921"
            ]
           ]
          },
          "colorway": [
           "#636efa",
           "#EF553B",
           "#00cc96",
           "#ab63fa",
           "#FFA15A",
           "#19d3f3",
           "#FF6692",
           "#B6E880",
           "#FF97FF",
           "#FECB52"
          ],
          "font": {
           "color": "#2a3f5f"
          },
          "geo": {
           "bgcolor": "white",
           "lakecolor": "white",
           "landcolor": "#E5ECF6",
           "showlakes": true,
           "showland": true,
           "subunitcolor": "white"
          },
          "hoverlabel": {
           "align": "left"
          },
          "hovermode": "closest",
          "mapbox": {
           "style": "light"
          },
          "paper_bgcolor": "white",
          "plot_bgcolor": "#E5ECF6",
          "polar": {
           "angularaxis": {
            "gridcolor": "white",
            "linecolor": "white",
            "ticks": ""
           },
           "bgcolor": "#E5ECF6",
           "radialaxis": {
            "gridcolor": "white",
            "linecolor": "white",
            "ticks": ""
           }
          },
          "scene": {
           "xaxis": {
            "backgroundcolor": "#E5ECF6",
            "gridcolor": "white",
            "gridwidth": 2,
            "linecolor": "white",
            "showbackground": true,
            "ticks": "",
            "zerolinecolor": "white"
           },
           "yaxis": {
            "backgroundcolor": "#E5ECF6",
            "gridcolor": "white",
            "gridwidth": 2,
            "linecolor": "white",
            "showbackground": true,
            "ticks": "",
            "zerolinecolor": "white"
           },
           "zaxis": {
            "backgroundcolor": "#E5ECF6",
            "gridcolor": "white",
            "gridwidth": 2,
            "linecolor": "white",
            "showbackground": true,
            "ticks": "",
            "zerolinecolor": "white"
           }
          },
          "shapedefaults": {
           "line": {
            "color": "#2a3f5f"
           }
          },
          "ternary": {
           "aaxis": {
            "gridcolor": "white",
            "linecolor": "white",
            "ticks": ""
           },
           "baxis": {
            "gridcolor": "white",
            "linecolor": "white",
            "ticks": ""
           },
           "bgcolor": "#E5ECF6",
           "caxis": {
            "gridcolor": "white",
            "linecolor": "white",
            "ticks": ""
           }
          },
          "title": {
           "x": 0.05
          },
          "xaxis": {
           "automargin": true,
           "gridcolor": "white",
           "linecolor": "white",
           "ticks": "",
           "title": {
            "standoff": 15
           },
           "zerolinecolor": "white",
           "zerolinewidth": 2
          },
          "yaxis": {
           "automargin": true,
           "gridcolor": "white",
           "linecolor": "white",
           "ticks": "",
           "title": {
            "standoff": 15
           },
           "zerolinecolor": "white",
           "zerolinewidth": 2
          }
         }
        },
        "xaxis": {
         "anchor": "y",
         "autorange": true,
         "domain": [
          0,
          1
         ],
         "range": [
          1970,
          2010
         ],
         "title": {
          "text": "year"
         },
         "type": "linear"
        },
        "yaxis": {
         "anchor": "x",
         "autorange": true,
         "domain": [
          0,
          1
         ],
         "range": [
          -4083.666666666666,
          231709.66666666666
         ],
         "title": {
          "text": "population"
         },
         "type": "linear"
        }
       }
      },
      "image/png": "[encoded data removed]",
      "text/html": [
       "<div>                            <div id=\"fd57e754-1831-4826-ba54-b72c1d3e7f43\" class=\"plotly-graph-div\" style=\"height:525px; width:100%;\"></div>            <script type=\"text/javascript\">                require([\"plotly\"], function(Plotly) {                    window.PLOTLYENV=window.PLOTLYENV || {};                                    if (document.getElementById(\"fd57e754-1831-4826-ba54-b72c1d3e7f43\")) {                    Plotly.newPlot(                        \"fd57e754-1831-4826-ba54-b72c1d3e7f43\",                        [{\"hovertemplate\":\"CD Name=Battery Park City, Tribeca\\u003cbr\\u003eyear=%{x}\\u003cbr\\u003epopulation=%{y}\\u003cextra\\u003e\\u003c\\u002fextra\\u003e\",\"legendgroup\":\"Battery Park City, Tribeca\",\"line\":{\"color\":\"#636efa\",\"dash\":\"solid\"},\"marker\":{\"symbol\":\"circle\"},\"mode\":\"lines\",\"name\":\"Battery Park City, Tribeca\",\"orientation\":\"v\",\"showlegend\":true,\"x\":[1970,1980,1990,2000,2010],\"xaxis\":\"x\",\"y\":[7706,15918,25366,34420,60978],\"yaxis\":\"y\",\"type\":\"scatter\"},{\"hovertemplate\":\"CD Name=Greenwich Village, Soho\\u003cbr\\u003eyear=%{x}\\u003cbr\\u003epopulation=%{y}\\u003cextra\\u003e\\u003c\\u002fextra\\u003e\",\"legendgroup\":\"Greenwich Village, Soho\",\"line\":{\"color\":\"#EF553B\",\"dash\":\"solid\"},\"marker\":{\"symbol\":\"circle\"},\"mode\":\"lines\",\"name\":\"Greenwich Village, Soho\",\"orientation\":\"v\",\"showlegend\":true,\"x\":[1970,1980,1990,2000,2010],\"xaxis\":\"x\",\"y\":[84337,87069,94105,93119,90016],\"yaxis\":\"y\",\"type\":\"scatter\"},{\"hovertemplate\":\"CD Name=Lower East Side, Chinatown\\u003cbr\\u003eyear=%{x}\\u003cbr\\u003epopulation=%{y}\\u003cextra\\u003e\\u003c\\u002fextra\\u003e\",\"legendgroup\":\"Lower East Side, Chinatown\",\"line\":{\"color\":\"#00cc96\",\"dash\":\"solid\"},\"marker\":{\"symbol\":\"circle\"},\"mode\":\"lines\",\"name\":\"Lower East Side, Chinatown\",\"orientation\":\"v\",\"showlegend\":true,\"x\":[1970,1980,1990,2000,2010],\"xaxis\":\"x\",\"y\":[181845,154848,161617,164407,163277],\"yaxis\":\"y\",\"type\":\"scatter\"},{\"hovertemplate\":\"CD Name=Chelsea, Clinton\\u003cbr\\u003eyear=%{x}\\u003cbr\\u003epopulation=%{y}\\u003cextra\\u003e\\u003c\\u002fextra\\u003e\",\"legendgroup\":\"Chelsea, Clinton\",\"line\":{\"color\":\"#ab63fa\",\"dash\":\"solid\"},\"marker\":{\"symbol\":\"circle\"},\"mode\":\"lines\",\"name\":\"Chelsea, Clinton\",\"orientation\":\"v\",\"showlegend\":true,\"x\":[1970,1980,1990,2000,2010],\"xaxis\":\"x\",\"y\":[83601,82164,84431,87479,103245],\"yaxis\":\"y\",\"type\":\"scatter\"},{\"hovertemplate\":\"CD Name=Midtown Business District\\u003cbr\\u003eyear=%{x}\\u003cbr\\u003epopulation=%{y}\\u003cextra\\u003e\\u003c\\u002fextra\\u003e\",\"legendgroup\":\"Midtown Business District\",\"line\":{\"color\":\"#FFA15A\",\"dash\":\"solid\"},\"marker\":{\"symbol\":\"circle\"},\"mode\":\"lines\",\"name\":\"Midtown Business District\",\"orientation\":\"v\",\"showlegend\":true,\"x\":[1970,1980,1990,2000,2010],\"xaxis\":\"x\",\"y\":[31076,39544,43507,44028,51673],\"yaxis\":\"y\",\"type\":\"scatter\"},{\"hovertemplate\":\"CD Name=Stuyvesant Town, Turtle Bay\\u003cbr\\u003eyear=%{x}\\u003cbr\\u003epopulation=%{y}\\u003cextra\\u003e\\u003c\\u002fextra\\u003e\",\"legendgroup\":\"Stuyvesant Town, Turtle Bay\",\"line\":{\"color\":\"#19d3f3\",\"dash\":\"solid\"},\"marker\":{\"symbol\":\"circle\"},\"mode\":\"lines\",\"name\":\"Stuyvesant Town, Turtle Bay\",\"orientation\":\"v\",\"showlegend\":true,\"x\":[1970,1980,1990,2000,2010],\"xaxis\":\"x\",\"y\":[122465,127554,133748,136152,142745],\"yaxis\":\"y\",\"type\":\"scatter\"},{\"hovertemplate\":\"CD Name=West Side, Upper West Side\\u003cbr\\u003eyear=%{x}\\u003cbr\\u003epopulation=%{y}\\u003cextra\\u003e\\u003c\\u002fextra\\u003e\",\"legendgroup\":\"West Side, Upper West Side\",\"line\":{\"color\":\"#FF6692\",\"dash\":\"solid\"},\"marker\":{\"symbol\":\"circle\"},\"mode\":\"lines\",\"name\":\"West Side, Upper West Side\",\"orientation\":\"v\",\"showlegend\":true,\"x\":[1970,1980,1990,2000,2010],\"xaxis\":\"x\",\"y\":[212422,206669,210993,207699,209084],\"yaxis\":\"y\",\"type\":\"scatter\"},{\"hovertemplate\":\"CD Name=Upper East Side\\u003cbr\\u003eyear=%{x}\\u003cbr\\u003epopulation=%{y}\\u003cextra\\u003e\\u003c\\u002fextra\\u003e\",\"legendgroup\":\"Upper East Side\",\"line\":{\"color\":\"#B6E880\",\"dash\":\"solid\"},\"marker\":{\"symbol\":\"circle\"},\"mode\":\"lines\",\"name\":\"Upper East Side\",\"orientation\":\"v\",\"showlegend\":true,\"x\":[1970,1980,1990,2000,2010],\"xaxis\":\"x\",\"y\":[200851,204305,210880,217063,219920],\"yaxis\":\"y\",\"type\":\"scatter\"},{\"hovertemplate\":\"CD Name=Manhattanville, Hamilton Heights\\u003cbr\\u003eyear=%{x}\\u003cbr\\u003epopulation=%{y}\\u003cextra\\u003e\\u003c\\u002fextra\\u003e\",\"legendgroup\":\"Manhattanville, Hamilton Heights\",\"line\":{\"color\":\"#FF97FF\",\"dash\":\"solid\"},\"marker\":{\"symbol\":\"circle\"},\"mode\":\"lines\",\"name\":\"Manhattanville, Hamilton Heights\",\"orientation\":\"v\",\"showlegend\":true,\"x\":[1970,1980,1990,2000,2010],\"xaxis\":\"x\",\"y\":[113606,103038,106978,111724,110193],\"yaxis\":\"y\",\"type\":\"scatter\"},{\"hovertemplate\":\"CD Name=Central Harlem\\u003cbr\\u003eyear=%{x}\\u003cbr\\u003epopulation=%{y}\\u003cextra\\u003e\\u003c\\u002fextra\\u003e\",\"legendgroup\":\"Central Harlem\",\"line\":{\"color\":\"#FECB52\",\"dash\":\"solid\"},\"marker\":{\"symbol\":\"circle\"},\"mode\":\"lines\",\"name\":\"Central Harlem\",\"orientation\":\"v\",\"showlegend\":true,\"x\":[1970,1980,1990,2000,2010],\"xaxis\":\"x\",\"y\":[159267,105641,99519,107109,115723],\"yaxis\":\"y\",\"type\":\"scatter\"},{\"hovertemplate\":\"CD Name=East Harlem\\u003cbr\\u003eyear=%{x}\\u003cbr\\u003epopulation=%{y}\\u003cextra\\u003e\\u003c\\u002fextra\\u003e\",\"legendgroup\":\"East Harlem\",\"line\":{\"color\":\"#636efa\",\"dash\":\"solid\"},\"marker\":{\"symbol\":\"circle\"},\"mode\":\"lines\",\"name\":\"East Harlem\",\"orientation\":\"v\",\"showlegend\":true,\"x\":[1970,1980,1990,2000,2010],\"xaxis\":\"x\",\"y\":[154662,114569,110508,117743,120511],\"yaxis\":\"y\",\"type\":\"scatter\"},{\"hovertemplate\":\"CD Name=Washington Heights, Inwood\\u003cbr\\u003eyear=%{x}\\u003cbr\\u003epopulation=%{y}\\u003cextra\\u003e\\u003c\\u002fextra\\u003e\",\"legendgroup\":\"Washington Heights, Inwood\",\"line\":{\"color\":\"#EF553B\",\"dash\":\"solid\"},\"marker\":{\"symbol\":\"circle\"},\"mode\":\"lines\",\"name\":\"Washington Heights, Inwood\",\"orientation\":\"v\",\"showlegend\":true,\"x\":[1970,1980,1990,2000,2010],\"xaxis\":\"x\",\"y\":[180561,179941,198192,208414,190020],\"yaxis\":\"y\",\"type\":\"scatter\"}],                        {\"template\":{\"data\":{\"histogram2dcontour\":[{\"type\":\"histogram2dcontour\",\"colorbar\":{\"outlinewidth\":0,\"ticks\":\"\"},\"colorscale\":[[0.0,\"#0d0887\"],[0.1111111111111111,\"#46039f\"],[0.2222222222222222,\"#7201a8\"],[0.3333333333333333,\"#9c179e\"],[0.4444444444444444,\"#bd3786\"],[0.5555555555555556,\"#d8576b\"],[0.6666666666666666,\"#ed7953\"],[0.7777777777777778,\"#fb9f3a\"],[0.8888888888888888,\"#fdca26\"],[1.0,\"#f0f921\"]]}],\"choropleth\":[{\"type\":\"choropleth\",\"colorbar\":{\"outlinewidth\":0,\"ticks\":\"\"}}],\"histogram2d\":[{\"type\":\"histogram2d\",\"colorbar\":{\"outlinewidth\":0,\"ticks\":\"\"},\"colorscale\":[[0.0,\"#0d0887\"],[0.1111111111111111,\"#46039f\"],[0.2222222222222222,\"#7201a8\"],[0.3333333333333333,\"#9c179e\"],[0.4444444444444444,\"#bd3786\"],[0.5555555555555556,\"#d8576b\"],[0.6666666666666666,\"#ed7953\"],[0.7777777777777778,\"#fb9f3a\"],[0.8888888888888888,\"#fdca26\"],[1.0,\"#f0f921\"]]}],\"heatmap\":[{\"type\":\"heatmap\",\"colorbar\":{\"outlinewidth\":0,\"ticks\":\"\"},\"colorscale\":[[0.0,\"#0d0887\"],[0.1111111111111111,\"#46039f\"],[0.2222222222222222,\"#7201a8\"],[0.3333333333333333,\"#9c179e\"],[0.4444444444444444,\"#bd3786\"],[0.5555555555555556,\"#d8576b\"],[0.6666666666666666,\"#ed7953\"],[0.7777777777777778,\"#fb9f3a\"],[0.8888888888888888,\"#fdca26\"],[1.0,\"#f0f921\"]]}],\"heatmapgl\":[{\"type\":\"heatmapgl\",\"colorbar\":{\"outlinewidth\":0,\"ticks\":\"\"},\"colorscale\":[[0.0,\"#0d0887\"],[0.1111111111111111,\"#46039f\"],[0.2222222222222222,\"#7201a8\"],[0.3333333333333333,\"#9c179e\"],[0.4444444444444444,\"#bd3786\"],[0.5555555555555556,\"#d8576b\"],[0.6666666666666666,\"#ed7953\"],[0.7777777777777778,\"#fb9f3a\"],[0.8888888888888888,\"#fdca26\"],[1.0,\"#f0f921\"]]}],\"contourcarpet\":[{\"type\":\"contourcarpet\",\"colorbar\":{\"outlinewidth\":0,\"ticks\":\"\"}}],\"contour\":[{\"type\":\"contour\",\"colorbar\":{\"outlinewidth\":0,\"ticks\":\"\"},\"colorscale\":[[0.0,\"#0d0887\"],[0.1111111111111111,\"#46039f\"],[0.2222222222222222,\"#7201a8\"],[0.3333333333333333,\"#9c179e\"],[0.4444444444444444,\"#bd3786\"],[0.5555555555555556,\"#d8576b\"],[0.6666666666666666,\"#ed7953\"],[0.7777777777777778,\"#fb9f3a\"],[0.8888888888888888,\"#fdca26\"],[1.0,\"#f0f921\"]]}],\"surface\":[{\"type\":\"surface\",\"colorbar\":{\"outlinewidth\":0,\"ticks\":\"\"},\"colorscale\":[[0.0,\"#0d0887\"],[0.1111111111111111,\"#46039f\"],[0.2222222222222222,\"#7201a8\"],[0.3333333333333333,\"#9c179e\"],[0.4444444444444444,\"#bd3786\"],[0.5555555555555556,\"#d8576b\"],[0.6666666666666666,\"#ed7953\"],[0.7777777777777778,\"#fb9f3a\"],[0.8888888888888888,\"#fdca26\"],[1.0,\"#f0f921\"]]}],\"mesh3d\":[{\"type\":\"mesh3d\",\"colorbar\":{\"outlinewidth\":0,\"ticks\":\"\"}}],\"scatter\":[{\"fillpattern\":{\"fillmode\":\"overlay\",\"size\":10,\"solidity\":0.2},\"type\":\"scatter\"}],\"parcoords\":[{\"type\":\"parcoords\",\"line\":{\"colorbar\":{\"outlinewidth\":0,\"ticks\":\"\"}}}],\"scatterpolargl\":[{\"type\":\"scatterpolargl\",\"marker\":{\"colorbar\":{\"outlinewidth\":0,\"ticks\":\"\"}}}],\"bar\":[{\"error_x\":{\"color\":\"#2a3f5f\"},\"error_y\":{\"color\":\"#2a3f5f\"},\"marker\":{\"line\":{\"color\":\"#E5ECF6\",\"width\":0.5},\"pattern\":{\"fillmode\":\"overlay\",\"size\":10,\"solidity\":0.2}},\"type\":\"bar\"}],\"scattergeo\":[{\"type\":\"scattergeo\",\"marker\":{\"colorbar\":{\"outlinewidth\":0,\"ticks\":\"\"}}}],\"scatterpolar\":[{\"type\":\"scatterpolar\",\"marker\":{\"colorbar\":{\"outlinewidth\":0,\"ticks\":\"\"}}}],\"histogram\":[{\"marker\":{\"pattern\":{\"fillmode\":\"overlay\",\"size\":10,\"solidity\":0.2}},\"type\":\"histogram\"}],\"scattergl\":[{\"type\":\"scattergl\",\"marker\":{\"colorbar\":{\"outlinewidth\":0,\"ticks\":\"\"}}}],\"scatter3d\":[{\"type\":\"scatter3d\",\"line\":{\"colorbar\":{\"outlinewidth\":0,\"ticks\":\"\"}},\"marker\":{\"colorbar\":{\"outlinewidth\":0,\"ticks\":\"\"}}}],\"scattermapbox\":[{\"type\":\"scattermapbox\",\"marker\":{\"colorbar\":{\"outlinewidth\":0,\"ticks\":\"\"}}}],\"scatterternary\":[{\"type\":\"scatterternary\",\"marker\":{\"colorbar\":{\"outlinewidth\":0,\"ticks\":\"\"}}}],\"scattercarpet\":[{\"type\":\"scattercarpet\",\"marker\":{\"colorbar\":{\"outlinewidth\":0,\"ticks\":\"\"}}}],\"carpet\":[{\"aaxis\":{\"endlinecolor\":\"#2a3f5f\",\"gridcolor\":\"white\",\"linecolor\":\"white\",\"minorgridcolor\":\"white\",\"startlinecolor\":\"#2a3f5f\"},\"baxis\":{\"endlinecolor\":\"#2a3f5f\",\"gridcolor\":\"white\",\"linecolor\":\"white\",\"minorgridcolor\":\"white\",\"startlinecolor\":\"#2a3f5f\"},\"type\":\"carpet\"}],\"table\":[{\"cells\":{\"fill\":{\"color\":\"#EBF0F8\"},\"line\":{\"color\":\"white\"}},\"header\":{\"fill\":{\"color\":\"#C8D4E3\"},\"line\":{\"color\":\"white\"}},\"type\":\"table\"}],\"barpolar\":[{\"marker\":{\"line\":{\"color\":\"#E5ECF6\",\"width\":0.5},\"pattern\":{\"fillmode\":\"overlay\",\"size\":10,\"solidity\":0.2}},\"type\":\"barpolar\"}],\"pie\":[{\"automargin\":true,\"type\":\"pie\"}]},\"layout\":{\"autotypenumbers\":\"strict\",\"colorway\":[\"#636efa\",\"#EF553B\",\"#00cc96\",\"#ab63fa\",\"#FFA15A\",\"#19d3f3\",\"#FF6692\",\"#B6E880\",\"#FF97FF\",\"#FECB52\"],\"font\":{\"color\":\"#2a3f5f\"},\"hovermode\":\"closest\",\"hoverlabel\":{\"align\":\"left\"},\"paper_bgcolor\":\"white\",\"plot_bgcolor\":\"#E5ECF6\",\"polar\":{\"bgcolor\":\"#E5ECF6\",\"angularaxis\":{\"gridcolor\":\"white\",\"linecolor\":\"white\",\"ticks\":\"\"},\"radialaxis\":{\"gridcolor\":\"white\",\"linecolor\":\"white\",\"ticks\":\"\"}},\"ternary\":{\"bgcolor\":\"#E5ECF6\",\"aaxis\":{\"gridcolor\":\"white\",\"linecolor\":\"white\",\"ticks\":\"\"},\"baxis\":{\"gridcolor\":\"white\",\"linecolor\":\"white\",\"ticks\":\"\"},\"caxis\":{\"gridcolor\":\"white\",\"linecolor\":\"white\",\"ticks\":\"\"}},\"coloraxis\":{\"colorbar\":{\"outlinewidth\":0,\"ticks\":\"\"}},\"colorscale\":{\"sequential\":[[0.0,\"#0d0887\"],[0.1111111111111111,\"#46039f\"],[0.2222222222222222,\"#7201a8\"],[0.3333333333333333,\"#9c179e\"],[0.4444444444444444,\"#bd3786\"],[0.5555555555555556,\"#d8576b\"],[0.6666666666666666,\"#ed7953\"],[0.7777777777777778,\"#fb9f3a\"],[0.8888888888888888,\"#fdca26\"],[1.0,\"#f0f921\"]],\"sequentialminus\":[[0.0,\"#0d0887\"],[0.1111111111111111,\"#46039f\"],[0.2222222222222222,\"#7201a8\"],[0.3333333333333333,\"#9c179e\"],[0.4444444444444444,\"#bd3786\"],[0.5555555555555556,\"#d8576b\"],[0.6666666666666666,\"#ed7953\"],[0.7777777777777778,\"#fb9f3a\"],[0.8888888888888888,\"#fdca26\"],[1.0,\"#f0f921\"]],\"diverging\":[[0,\"#8e0152\"],[0.1,\"#c51b7d\"],[0.2,\"#de77ae\"],[0.3,\"#f1b6da\"],[0.4,\"#fde0ef\"],[0.5,\"#f7f7f7\"],[0.6,\"#e6f5d0\"],[0.7,\"#b8e186\"],[0.8,\"#7fbc41\"],[0.9,\"#4d9221\"],[1,\"#276419\"]]},\"xaxis\":{\"gridcolor\":\"white\",\"linecolor\":\"white\",\"ticks\":\"\",\"title\":{\"standoff\":15},\"zerolinecolor\":\"white\",\"automargin\":true,\"zerolinewidth\":2},\"yaxis\":{\"gridcolor\":\"white\",\"linecolor\":\"white\",\"ticks\":\"\",\"title\":{\"standoff\":15},\"zerolinecolor\":\"white\",\"automargin\":true,\"zerolinewidth\":2},\"scene\":{\"xaxis\":{\"backgroundcolor\":\"#E5ECF6\",\"gridcolor\":\"white\",\"linecolor\":\"white\",\"showbackground\":true,\"ticks\":\"\",\"zerolinecolor\":\"white\",\"gridwidth\":2},\"yaxis\":{\"backgroundcolor\":\"#E5ECF6\",\"gridcolor\":\"white\",\"linecolor\":\"white\",\"showbackground\":true,\"ticks\":\"\",\"zerolinecolor\":\"white\",\"gridwidth\":2},\"zaxis\":{\"backgroundcolor\":\"#E5ECF6\",\"gridcolor\":\"white\",\"linecolor\":\"white\",\"showbackground\":true,\"ticks\":\"\",\"zerolinecolor\":\"white\",\"gridwidth\":2}},\"shapedefaults\":{\"line\":{\"color\":\"#2a3f5f\"}},\"annotationdefaults\":{\"arrowcolor\":\"#2a3f5f\",\"arrowhead\":0,\"arrowwidth\":1},\"geo\":{\"bgcolor\":\"white\",\"landcolor\":\"#E5ECF6\",\"subunitcolor\":\"white\",\"showland\":true,\"showlakes\":true,\"lakecolor\":\"white\"},\"title\":{\"x\":0.05},\"mapbox\":{\"style\":\"light\"}}},\"xaxis\":{\"anchor\":\"y\",\"domain\":[0.0,1.0],\"title\":{\"text\":\"year\"}},\"yaxis\":{\"anchor\":\"x\",\"domain\":[0.0,1.0],\"title\":{\"text\":\"population\"}},\"legend\":{\"title\":{\"text\":\"CD Name\"},\"tracegroupgap\":0},\"margin\":{\"t\":60}},                        {\"responsive\": true}                    ).then(function(){\n",
       "                            \n",
       "var gd = document.getElementById('fd57e754-1831-4826-ba54-b72c1d3e7f43');\n",
       "var x = new MutationObserver(function (mutations, observer) {{\n",
       "        var display = window.getComputedStyle(gd).display;\n",
       "        if (!display || display === 'none') {{\n",
       "            console.log([gd, 'removed!']);\n",
       "            Plotly.purge(gd);\n",
       "            observer.disconnect();\n",
       "        }}\n",
       "}});\n",
       "\n",
       "// Listen for the removal of the full notebook cells\n",
       "var notebookContainer = gd.closest('#notebook-container');\n",
       "if (notebookContainer) {{\n",
       "    x.observe(notebookContainer, {childList: true});\n",
       "}}\n",
       "\n",
       "// Listen for the clearing of the current output cell\n",
       "var outputEl = gd.closest('.output');\n",
       "if (outputEl) {{\n",
       "    x.observe(outputEl, {childList: true});\n",
       "}}\n",
       "\n",
       "                        })                };                });            </script>        </div>"
      ]
     },
     "metadata": {},
     "output_type": "display_data"
    }
   ],
   "source": [
    "manhattan = populations[populations[\"Borough\"]==\"Manhattan\"]\n",
    "\n",
    "import plotly.express as px\n",
    "fig = px.line(manhattan, x=\"year\", y=\"population\", color='CD Name')\n",
    "fig"
   ]
  },
  {
   "cell_type": "markdown",
   "metadata": {
    "editable": true,
    "slideshow": {
     "slide_type": ""
    },
    "tags": []
   },
   "source": [
    "## Step 3\n",
    "\n",
    "Starting with the same dataset, create a line chart of the population over time for each Borough. There should be one line for each.\n",
    "1. Use `.groupby()` and `.sum()`\n",
    "   -  `.groupby([\"xxx\",\"xxx\"])`\n",
    "2. Convert the series into dataframe `reset_index()`\n",
    "3. `px.line()`"
   ]
  },
  {
   "cell_type": "code",
   "execution_count": 51,
   "metadata": {
    "editable": true,
    "slideshow": {
     "slide_type": ""
    },
    "tags": [
     "solution"
    ]
   },
   "outputs": [
    {
     "data": {
      "application/vnd.plotly.v1+json": {
       "config": {
        "plotlyServerURL": "https://plot.ly"
       },
       "data": [
        {
         "hovertemplate": "Borough=Bronx<br>year=%{x}<br>population=%{y}<extra></extra>",
         "legendgroup": "Bronx",
         "line": {
          "color": "#636efa",
          "dash": "solid"
         },
         "marker": {
          "symbol": "circle"
         },
         "mode": "lines",
         "name": "Bronx",
         "orientation": "v",
         "showlegend": true,
         "type": "scatter",
         "x": [
          1970,
          1980,
          1990,
          2000,
          2010
         ],
         "xaxis": "x",
         "y": [
          1478524,
          1170349,
          1197420,
          1327454,
          1380697
         ],
         "yaxis": "y"
        },
        {
         "hovertemplate": "Borough=Brooklyn<br>year=%{x}<br>population=%{y}<extra></extra>",
         "legendgroup": "Brooklyn",
         "line": {
          "color": "#EF553B",
          "dash": "solid"
         },
         "marker": {
          "symbol": "circle"
         },
         "mode": "lines",
         "name": "Brooklyn",
         "orientation": "v",
         "showlegend": true,
         "type": "scatter",
         "x": [
          1970,
          1980,
          1990,
          2000,
          2010
         ],
         "xaxis": "x",
         "y": [
          2601668,
          2230849,
          2300650,
          2465299,
          2504609
         ],
         "yaxis": "y"
        },
        {
         "hovertemplate": "Borough=Manhattan<br>year=%{x}<br>population=%{y}<extra></extra>",
         "legendgroup": "Manhattan",
         "line": {
          "color": "#00cc96",
          "dash": "solid"
         },
         "marker": {
          "symbol": "circle"
         },
         "mode": "lines",
         "name": "Manhattan",
         "orientation": "v",
         "showlegend": true,
         "type": "scatter",
         "x": [
          1970,
          1980,
          1990,
          2000,
          2010
         ],
         "xaxis": "x",
         "y": [
          1532399,
          1421260,
          1479844,
          1529357,
          1577385
         ],
         "yaxis": "y"
        },
        {
         "hovertemplate": "Borough=Queens<br>year=%{x}<br>population=%{y}<extra></extra>",
         "legendgroup": "Queens",
         "line": {
          "color": "#ab63fa",
          "dash": "solid"
         },
         "marker": {
          "symbol": "circle"
         },
         "mode": "lines",
         "name": "Queens",
         "orientation": "v",
         "showlegend": true,
         "type": "scatter",
         "x": [
          1970,
          1980,
          1990,
          2000,
          2010
         ],
         "xaxis": "x",
         "y": [
          1985995,
          1896401,
          1965471,
          2240510,
          2241021
         ],
         "yaxis": "y"
        },
        {
         "hovertemplate": "Borough=Staten Island<br>year=%{x}<br>population=%{y}<extra></extra>",
         "legendgroup": "Staten Island",
         "line": {
          "color": "#FFA15A",
          "dash": "solid"
         },
         "marker": {
          "symbol": "circle"
         },
         "mode": "lines",
         "name": "Staten Island",
         "orientation": "v",
         "showlegend": true,
         "type": "scatter",
         "x": [
          1970,
          1980,
          1990,
          2000,
          2010
         ],
         "xaxis": "x",
         "y": [
          294675,
          351866,
          378706,
          442588,
          467968
         ],
         "yaxis": "y"
        }
       ],
       "layout": {
        "autosize": true,
        "legend": {
         "title": {
          "text": "Borough"
         },
         "tracegroupgap": 0
        },
        "margin": {
         "t": 60
        },
        "template": {
         "data": {
          "bar": [
           {
            "error_x": {
             "color": "#2a3f5f"
            },
            "error_y": {
             "color": "#2a3f5f"
            },
            "marker": {
             "line": {
              "color": "#E5ECF6",
              "width": 0.5
             },
             "pattern": {
              "fillmode": "overlay",
              "size": 10,
              "solidity": 0.2
             }
            },
            "type": "bar"
           }
          ],
          "barpolar": [
           {
            "marker": {
             "line": {
              "color": "#E5ECF6",
              "width": 0.5
             },
             "pattern": {
              "fillmode": "overlay",
              "size": 10,
              "solidity": 0.2
             }
            },
            "type": "barpolar"
           }
          ],
          "carpet": [
           {
            "aaxis": {
             "endlinecolor": "#2a3f5f",
             "gridcolor": "white",
             "linecolor": "white",
             "minorgridcolor": "white",
             "startlinecolor": "#2a3f5f"
            },
            "baxis": {
             "endlinecolor": "#2a3f5f",
             "gridcolor": "white",
             "linecolor": "white",
             "minorgridcolor": "white",
             "startlinecolor": "#2a3f5f"
            },
            "type": "carpet"
           }
          ],
          "choropleth": [
           {
            "colorbar": {
             "outlinewidth": 0,
             "ticks": ""
            },
            "type": "choropleth"
           }
          ],
          "contour": [
           {
            "colorbar": {
             "outlinewidth": 0,
             "ticks": ""
            },
            "colorscale": [
             [
              0,
              "#0d0887"
             ],
             [
              0.1111111111111111,
              "#46039f"
             ],
             [
              0.2222222222222222,
              "#7201a8"
             ],
             [
              0.3333333333333333,
              "#9c179e"
             ],
             [
              0.4444444444444444,
              "#bd3786"
             ],
             [
              0.5555555555555556,
              "#d8576b"
             ],
             [
              0.6666666666666666,
              "#ed7953"
             ],
             [
              0.7777777777777778,
              "#fb9f3a"
             ],
             [
              0.8888888888888888,
              "#fdca26"
             ],
             [
              1,
              "#f0f921"
             ]
            ],
            "type": "contour"
           }
          ],
          "contourcarpet": [
           {
            "colorbar": {
             "outlinewidth": 0,
             "ticks": ""
            },
            "type": "contourcarpet"
           }
          ],
          "heatmap": [
           {
            "colorbar": {
             "outlinewidth": 0,
             "ticks": ""
            },
            "colorscale": [
             [
              0,
              "#0d0887"
             ],
             [
              0.1111111111111111,
              "#46039f"
             ],
             [
              0.2222222222222222,
              "#7201a8"
             ],
             [
              0.3333333333333333,
              "#9c179e"
             ],
             [
              0.4444444444444444,
              "#bd3786"
             ],
             [
              0.5555555555555556,
              "#d8576b"
             ],
             [
              0.6666666666666666,
              "#ed7953"
             ],
             [
              0.7777777777777778,
              "#fb9f3a"
             ],
             [
              0.8888888888888888,
              "#fdca26"
             ],
             [
              1,
              "#f0f921"
             ]
            ],
            "type": "heatmap"
           }
          ],
          "heatmapgl": [
           {
            "colorbar": {
             "outlinewidth": 0,
             "ticks": ""
            },
            "colorscale": [
             [
              0,
              "#0d0887"
             ],
             [
              0.1111111111111111,
              "#46039f"
             ],
             [
              0.2222222222222222,
              "#7201a8"
             ],
             [
              0.3333333333333333,
              "#9c179e"
             ],
             [
              0.4444444444444444,
              "#bd3786"
             ],
             [
              0.5555555555555556,
              "#d8576b"
             ],
             [
              0.6666666666666666,
              "#ed7953"
             ],
             [
              0.7777777777777778,
              "#fb9f3a"
             ],
             [
              0.8888888888888888,
              "#fdca26"
             ],
             [
              1,
              "#f0f921"
             ]
            ],
            "type": "heatmapgl"
           }
          ],
          "histogram": [
           {
            "marker": {
             "pattern": {
              "fillmode": "overlay",
              "size": 10,
              "solidity": 0.2
             }
            },
            "type": "histogram"
           }
          ],
          "histogram2d": [
           {
            "colorbar": {
             "outlinewidth": 0,
             "ticks": ""
            },
            "colorscale": [
             [
              0,
              "#0d0887"
             ],
             [
              0.1111111111111111,
              "#46039f"
             ],
             [
              0.2222222222222222,
              "#7201a8"
             ],
             [
              0.3333333333333333,
              "#9c179e"
             ],
             [
              0.4444444444444444,
              "#bd3786"
             ],
             [
              0.5555555555555556,
              "#d8576b"
             ],
             [
              0.6666666666666666,
              "#ed7953"
             ],
             [
              0.7777777777777778,
              "#fb9f3a"
             ],
             [
              0.8888888888888888,
              "#fdca26"
             ],
             [
              1,
              "#f0f921"
             ]
            ],
            "type": "histogram2d"
           }
          ],
          "histogram2dcontour": [
           {
            "colorbar": {
             "outlinewidth": 0,
             "ticks": ""
            },
            "colorscale": [
             [
              0,
              "#0d0887"
             ],
             [
              0.1111111111111111,
              "#46039f"
             ],
             [
              0.2222222222222222,
              "#7201a8"
             ],
             [
              0.3333333333333333,
              "#9c179e"
             ],
             [
              0.4444444444444444,
              "#bd3786"
             ],
             [
              0.5555555555555556,
              "#d8576b"
             ],
             [
              0.6666666666666666,
              "#ed7953"
             ],
             [
              0.7777777777777778,
              "#fb9f3a"
             ],
             [
              0.8888888888888888,
              "#fdca26"
             ],
             [
              1,
              "#f0f921"
             ]
            ],
            "type": "histogram2dcontour"
           }
          ],
          "mesh3d": [
           {
            "colorbar": {
             "outlinewidth": 0,
             "ticks": ""
            },
            "type": "mesh3d"
           }
          ],
          "parcoords": [
           {
            "line": {
             "colorbar": {
              "outlinewidth": 0,
              "ticks": ""
             }
            },
            "type": "parcoords"
           }
          ],
          "pie": [
           {
            "automargin": true,
            "type": "pie"
           }
          ],
          "scatter": [
           {
            "fillpattern": {
             "fillmode": "overlay",
             "size": 10,
             "solidity": 0.2
            },
            "type": "scatter"
           }
          ],
          "scatter3d": [
           {
            "line": {
             "colorbar": {
              "outlinewidth": 0,
              "ticks": ""
             }
            },
            "marker": {
             "colorbar": {
              "outlinewidth": 0,
              "ticks": ""
             }
            },
            "type": "scatter3d"
           }
          ],
          "scattercarpet": [
           {
            "marker": {
             "colorbar": {
              "outlinewidth": 0,
              "ticks": ""
             }
            },
            "type": "scattercarpet"
           }
          ],
          "scattergeo": [
           {
            "marker": {
             "colorbar": {
              "outlinewidth": 0,
              "ticks": ""
             }
            },
            "type": "scattergeo"
           }
          ],
          "scattergl": [
           {
            "marker": {
             "colorbar": {
              "outlinewidth": 0,
              "ticks": ""
             }
            },
            "type": "scattergl"
           }
          ],
          "scattermapbox": [
           {
            "marker": {
             "colorbar": {
              "outlinewidth": 0,
              "ticks": ""
             }
            },
            "type": "scattermapbox"
           }
          ],
          "scatterpolar": [
           {
            "marker": {
             "colorbar": {
              "outlinewidth": 0,
              "ticks": ""
             }
            },
            "type": "scatterpolar"
           }
          ],
          "scatterpolargl": [
           {
            "marker": {
             "colorbar": {
              "outlinewidth": 0,
              "ticks": ""
             }
            },
            "type": "scatterpolargl"
           }
          ],
          "scatterternary": [
           {
            "marker": {
             "colorbar": {
              "outlinewidth": 0,
              "ticks": ""
             }
            },
            "type": "scatterternary"
           }
          ],
          "surface": [
           {
            "colorbar": {
             "outlinewidth": 0,
             "ticks": ""
            },
            "colorscale": [
             [
              0,
              "#0d0887"
             ],
             [
              0.1111111111111111,
              "#46039f"
             ],
             [
              0.2222222222222222,
              "#7201a8"
             ],
             [
              0.3333333333333333,
              "#9c179e"
             ],
             [
              0.4444444444444444,
              "#bd3786"
             ],
             [
              0.5555555555555556,
              "#d8576b"
             ],
             [
              0.6666666666666666,
              "#ed7953"
             ],
             [
              0.7777777777777778,
              "#fb9f3a"
             ],
             [
              0.8888888888888888,
              "#fdca26"
             ],
             [
              1,
              "#f0f921"
             ]
            ],
            "type": "surface"
           }
          ],
          "table": [
           {
            "cells": {
             "fill": {
              "color": "#EBF0F8"
             },
             "line": {
              "color": "white"
             }
            },
            "header": {
             "fill": {
              "color": "#C8D4E3"
             },
             "line": {
              "color": "white"
             }
            },
            "type": "table"
           }
          ]
         },
         "layout": {
          "annotationdefaults": {
           "arrowcolor": "#2a3f5f",
           "arrowhead": 0,
           "arrowwidth": 1
          },
          "autotypenumbers": "strict",
          "coloraxis": {
           "colorbar": {
            "outlinewidth": 0,
            "ticks": ""
           }
          },
          "colorscale": {
           "diverging": [
            [
             0,
             "#8e0152"
            ],
            [
             0.1,
             "#c51b7d"
            ],
            [
             0.2,
             "#de77ae"
            ],
            [
             0.3,
             "#f1b6da"
            ],
            [
             0.4,
             "#fde0ef"
            ],
            [
             0.5,
             "#f7f7f7"
            ],
            [
             0.6,
             "#e6f5d0"
            ],
            [
             0.7,
             "#b8e186"
            ],
            [
             0.8,
             "#7fbc41"
            ],
            [
             0.9,
             "#4d9221"
            ],
            [
             1,
             "#276419"
            ]
           ],
           "sequential": [
            [
             0,
             "#0d0887"
            ],
            [
             0.1111111111111111,
             "#46039f"
            ],
            [
             0.2222222222222222,
             "#7201a8"
            ],
            [
             0.3333333333333333,
             "#9c179e"
            ],
            [
             0.4444444444444444,
             "#bd3786"
            ],
            [
             0.5555555555555556,
             "#d8576b"
            ],
            [
             0.6666666666666666,
             "#ed7953"
            ],
            [
             0.7777777777777778,
             "#fb9f3a"
            ],
            [
             0.8888888888888888,
             "#fdca26"
            ],
            [
             1,
             "#f0f921"
            ]
           ],
           "sequentialminus": [
            [
             0,
             "#0d0887"
            ],
            [
             0.1111111111111111,
             "#46039f"
            ],
            [
             0.2222222222222222,
             "#7201a8"
            ],
            [
             0.3333333333333333,
             "#9c179e"
            ],
            [
             0.4444444444444444,
             "#bd3786"
            ],
            [
             0.5555555555555556,
             "#d8576b"
            ],
            [
             0.6666666666666666,
             "#ed7953"
            ],
            [
             0.7777777777777778,
             "#fb9f3a"
            ],
            [
             0.8888888888888888,
             "#fdca26"
            ],
            [
             1,
             "#f0f921"
            ]
           ]
          },
          "colorway": [
           "#636efa",
           "#EF553B",
           "#00cc96",
           "#ab63fa",
           "#FFA15A",
           "#19d3f3",
           "#FF6692",
           "#B6E880",
           "#FF97FF",
           "#FECB52"
          ],
          "font": {
           "color": "#2a3f5f"
          },
          "geo": {
           "bgcolor": "white",
           "lakecolor": "white",
           "landcolor": "#E5ECF6",
           "showlakes": true,
           "showland": true,
           "subunitcolor": "white"
          },
          "hoverlabel": {
           "align": "left"
          },
          "hovermode": "closest",
          "mapbox": {
           "style": "light"
          },
          "paper_bgcolor": "white",
          "plot_bgcolor": "#E5ECF6",
          "polar": {
           "angularaxis": {
            "gridcolor": "white",
            "linecolor": "white",
            "ticks": ""
           },
           "bgcolor": "#E5ECF6",
           "radialaxis": {
            "gridcolor": "white",
            "linecolor": "white",
            "ticks": ""
           }
          },
          "scene": {
           "xaxis": {
            "backgroundcolor": "#E5ECF6",
            "gridcolor": "white",
            "gridwidth": 2,
            "linecolor": "white",
            "showbackground": true,
            "ticks": "",
            "zerolinecolor": "white"
           },
           "yaxis": {
            "backgroundcolor": "#E5ECF6",
            "gridcolor": "white",
            "gridwidth": 2,
            "linecolor": "white",
            "showbackground": true,
            "ticks": "",
            "zerolinecolor": "white"
           },
           "zaxis": {
            "backgroundcolor": "#E5ECF6",
            "gridcolor": "white",
            "gridwidth": 2,
            "linecolor": "white",
            "showbackground": true,
            "ticks": "",
            "zerolinecolor": "white"
           }
          },
          "shapedefaults": {
           "line": {
            "color": "#2a3f5f"
           }
          },
          "ternary": {
           "aaxis": {
            "gridcolor": "white",
            "linecolor": "white",
            "ticks": ""
           },
           "baxis": {
            "gridcolor": "white",
            "linecolor": "white",
            "ticks": ""
           },
           "bgcolor": "#E5ECF6",
           "caxis": {
            "gridcolor": "white",
            "linecolor": "white",
            "ticks": ""
           }
          },
          "title": {
           "x": 0.05
          },
          "xaxis": {
           "automargin": true,
           "gridcolor": "white",
           "linecolor": "white",
           "ticks": "",
           "title": {
            "standoff": 15
           },
           "zerolinecolor": "white",
           "zerolinewidth": 2
          },
          "yaxis": {
           "automargin": true,
           "gridcolor": "white",
           "linecolor": "white",
           "ticks": "",
           "title": {
            "standoff": 15
           },
           "zerolinecolor": "white",
           "zerolinewidth": 2
          }
         }
        },
        "xaxis": {
         "anchor": "y",
         "autorange": true,
         "domain": [
          0,
          1
         ],
         "range": [
          1970,
          2010
         ],
         "title": {
          "text": "year"
         },
         "type": "linear"
        },
        "yaxis": {
         "anchor": "x",
         "autorange": true,
         "domain": [
          0,
          1
         ],
         "range": [
          166508.72222222222,
          2729834.277777778
         ],
         "title": {
          "text": "population"
         },
         "type": "linear"
        }
       }
      },
      "image/png": "[encoded data removed]",
      "text/html": [
       "<div>                            <div id=\"25315ad9-40b7-45a6-b948-18552ec3f74f\" class=\"plotly-graph-div\" style=\"height:525px; width:100%;\"></div>            <script type=\"text/javascript\">                require([\"plotly\"], function(Plotly) {                    window.PLOTLYENV=window.PLOTLYENV || {};                                    if (document.getElementById(\"25315ad9-40b7-45a6-b948-18552ec3f74f\")) {                    Plotly.newPlot(                        \"25315ad9-40b7-45a6-b948-18552ec3f74f\",                        [{\"hovertemplate\":\"Borough=Bronx\\u003cbr\\u003eyear=%{x}\\u003cbr\\u003epopulation=%{y}\\u003cextra\\u003e\\u003c\\u002fextra\\u003e\",\"legendgroup\":\"Bronx\",\"line\":{\"color\":\"#636efa\",\"dash\":\"solid\"},\"marker\":{\"symbol\":\"circle\"},\"mode\":\"lines\",\"name\":\"Bronx\",\"orientation\":\"v\",\"showlegend\":true,\"x\":[1970,1980,1990,2000,2010],\"xaxis\":\"x\",\"y\":[1478524,1170349,1197420,1327454,1380697],\"yaxis\":\"y\",\"type\":\"scatter\"},{\"hovertemplate\":\"Borough=Brooklyn\\u003cbr\\u003eyear=%{x}\\u003cbr\\u003epopulation=%{y}\\u003cextra\\u003e\\u003c\\u002fextra\\u003e\",\"legendgroup\":\"Brooklyn\",\"line\":{\"color\":\"#EF553B\",\"dash\":\"solid\"},\"marker\":{\"symbol\":\"circle\"},\"mode\":\"lines\",\"name\":\"Brooklyn\",\"orientation\":\"v\",\"showlegend\":true,\"x\":[1970,1980,1990,2000,2010],\"xaxis\":\"x\",\"y\":[2601668,2230849,2300650,2465299,2504609],\"yaxis\":\"y\",\"type\":\"scatter\"},{\"hovertemplate\":\"Borough=Manhattan\\u003cbr\\u003eyear=%{x}\\u003cbr\\u003epopulation=%{y}\\u003cextra\\u003e\\u003c\\u002fextra\\u003e\",\"legendgroup\":\"Manhattan\",\"line\":{\"color\":\"#00cc96\",\"dash\":\"solid\"},\"marker\":{\"symbol\":\"circle\"},\"mode\":\"lines\",\"name\":\"Manhattan\",\"orientation\":\"v\",\"showlegend\":true,\"x\":[1970,1980,1990,2000,2010],\"xaxis\":\"x\",\"y\":[1532399,1421260,1479844,1529357,1577385],\"yaxis\":\"y\",\"type\":\"scatter\"},{\"hovertemplate\":\"Borough=Queens\\u003cbr\\u003eyear=%{x}\\u003cbr\\u003epopulation=%{y}\\u003cextra\\u003e\\u003c\\u002fextra\\u003e\",\"legendgroup\":\"Queens\",\"line\":{\"color\":\"#ab63fa\",\"dash\":\"solid\"},\"marker\":{\"symbol\":\"circle\"},\"mode\":\"lines\",\"name\":\"Queens\",\"orientation\":\"v\",\"showlegend\":true,\"x\":[1970,1980,1990,2000,2010],\"xaxis\":\"x\",\"y\":[1985995,1896401,1965471,2240510,2241021],\"yaxis\":\"y\",\"type\":\"scatter\"},{\"hovertemplate\":\"Borough=Staten Island\\u003cbr\\u003eyear=%{x}\\u003cbr\\u003epopulation=%{y}\\u003cextra\\u003e\\u003c\\u002fextra\\u003e\",\"legendgroup\":\"Staten Island\",\"line\":{\"color\":\"#FFA15A\",\"dash\":\"solid\"},\"marker\":{\"symbol\":\"circle\"},\"mode\":\"lines\",\"name\":\"Staten Island\",\"orientation\":\"v\",\"showlegend\":true,\"x\":[1970,1980,1990,2000,2010],\"xaxis\":\"x\",\"y\":[294675,351866,378706,442588,467968],\"yaxis\":\"y\",\"type\":\"scatter\"}],                        {\"template\":{\"data\":{\"histogram2dcontour\":[{\"type\":\"histogram2dcontour\",\"colorbar\":{\"outlinewidth\":0,\"ticks\":\"\"},\"colorscale\":[[0.0,\"#0d0887\"],[0.1111111111111111,\"#46039f\"],[0.2222222222222222,\"#7201a8\"],[0.3333333333333333,\"#9c179e\"],[0.4444444444444444,\"#bd3786\"],[0.5555555555555556,\"#d8576b\"],[0.6666666666666666,\"#ed7953\"],[0.7777777777777778,\"#fb9f3a\"],[0.8888888888888888,\"#fdca26\"],[1.0,\"#f0f921\"]]}],\"choropleth\":[{\"type\":\"choropleth\",\"colorbar\":{\"outlinewidth\":0,\"ticks\":\"\"}}],\"histogram2d\":[{\"type\":\"histogram2d\",\"colorbar\":{\"outlinewidth\":0,\"ticks\":\"\"},\"colorscale\":[[0.0,\"#0d0887\"],[0.1111111111111111,\"#46039f\"],[0.2222222222222222,\"#7201a8\"],[0.3333333333333333,\"#9c179e\"],[0.4444444444444444,\"#bd3786\"],[0.5555555555555556,\"#d8576b\"],[0.6666666666666666,\"#ed7953\"],[0.7777777777777778,\"#fb9f3a\"],[0.8888888888888888,\"#fdca26\"],[1.0,\"#f0f921\"]]}],\"heatmap\":[{\"type\":\"heatmap\",\"colorbar\":{\"outlinewidth\":0,\"ticks\":\"\"},\"colorscale\":[[0.0,\"#0d0887\"],[0.1111111111111111,\"#46039f\"],[0.2222222222222222,\"#7201a8\"],[0.3333333333333333,\"#9c179e\"],[0.4444444444444444,\"#bd3786\"],[0.5555555555555556,\"#d8576b\"],[0.6666666666666666,\"#ed7953\"],[0.7777777777777778,\"#fb9f3a\"],[0.8888888888888888,\"#fdca26\"],[1.0,\"#f0f921\"]]}],\"heatmapgl\":[{\"type\":\"heatmapgl\",\"colorbar\":{\"outlinewidth\":0,\"ticks\":\"\"},\"colorscale\":[[0.0,\"#0d0887\"],[0.1111111111111111,\"#46039f\"],[0.2222222222222222,\"#7201a8\"],[0.3333333333333333,\"#9c179e\"],[0.4444444444444444,\"#bd3786\"],[0.5555555555555556,\"#d8576b\"],[0.6666666666666666,\"#ed7953\"],[0.7777777777777778,\"#fb9f3a\"],[0.8888888888888888,\"#fdca26\"],[1.0,\"#f0f921\"]]}],\"contourcarpet\":[{\"type\":\"contourcarpet\",\"colorbar\":{\"outlinewidth\":0,\"ticks\":\"\"}}],\"contour\":[{\"type\":\"contour\",\"colorbar\":{\"outlinewidth\":0,\"ticks\":\"\"},\"colorscale\":[[0.0,\"#0d0887\"],[0.1111111111111111,\"#46039f\"],[0.2222222222222222,\"#7201a8\"],[0.3333333333333333,\"#9c179e\"],[0.4444444444444444,\"#bd3786\"],[0.5555555555555556,\"#d8576b\"],[0.6666666666666666,\"#ed7953\"],[0.7777777777777778,\"#fb9f3a\"],[0.8888888888888888,\"#fdca26\"],[1.0,\"#f0f921\"]]}],\"surface\":[{\"type\":\"surface\",\"colorbar\":{\"outlinewidth\":0,\"ticks\":\"\"},\"colorscale\":[[0.0,\"#0d0887\"],[0.1111111111111111,\"#46039f\"],[0.2222222222222222,\"#7201a8\"],[0.3333333333333333,\"#9c179e\"],[0.4444444444444444,\"#bd3786\"],[0.5555555555555556,\"#d8576b\"],[0.6666666666666666,\"#ed7953\"],[0.7777777777777778,\"#fb9f3a\"],[0.8888888888888888,\"#fdca26\"],[1.0,\"#f0f921\"]]}],\"mesh3d\":[{\"type\":\"mesh3d\",\"colorbar\":{\"outlinewidth\":0,\"ticks\":\"\"}}],\"scatter\":[{\"fillpattern\":{\"fillmode\":\"overlay\",\"size\":10,\"solidity\":0.2},\"type\":\"scatter\"}],\"parcoords\":[{\"type\":\"parcoords\",\"line\":{\"colorbar\":{\"outlinewidth\":0,\"ticks\":\"\"}}}],\"scatterpolargl\":[{\"type\":\"scatterpolargl\",\"marker\":{\"colorbar\":{\"outlinewidth\":0,\"ticks\":\"\"}}}],\"bar\":[{\"error_x\":{\"color\":\"#2a3f5f\"},\"error_y\":{\"color\":\"#2a3f5f\"},\"marker\":{\"line\":{\"color\":\"#E5ECF6\",\"width\":0.5},\"pattern\":{\"fillmode\":\"overlay\",\"size\":10,\"solidity\":0.2}},\"type\":\"bar\"}],\"scattergeo\":[{\"type\":\"scattergeo\",\"marker\":{\"colorbar\":{\"outlinewidth\":0,\"ticks\":\"\"}}}],\"scatterpolar\":[{\"type\":\"scatterpolar\",\"marker\":{\"colorbar\":{\"outlinewidth\":0,\"ticks\":\"\"}}}],\"histogram\":[{\"marker\":{\"pattern\":{\"fillmode\":\"overlay\",\"size\":10,\"solidity\":0.2}},\"type\":\"histogram\"}],\"scattergl\":[{\"type\":\"scattergl\",\"marker\":{\"colorbar\":{\"outlinewidth\":0,\"ticks\":\"\"}}}],\"scatter3d\":[{\"type\":\"scatter3d\",\"line\":{\"colorbar\":{\"outlinewidth\":0,\"ticks\":\"\"}},\"marker\":{\"colorbar\":{\"outlinewidth\":0,\"ticks\":\"\"}}}],\"scattermapbox\":[{\"type\":\"scattermapbox\",\"marker\":{\"colorbar\":{\"outlinewidth\":0,\"ticks\":\"\"}}}],\"scatterternary\":[{\"type\":\"scatterternary\",\"marker\":{\"colorbar\":{\"outlinewidth\":0,\"ticks\":\"\"}}}],\"scattercarpet\":[{\"type\":\"scattercarpet\",\"marker\":{\"colorbar\":{\"outlinewidth\":0,\"ticks\":\"\"}}}],\"carpet\":[{\"aaxis\":{\"endlinecolor\":\"#2a3f5f\",\"gridcolor\":\"white\",\"linecolor\":\"white\",\"minorgridcolor\":\"white\",\"startlinecolor\":\"#2a3f5f\"},\"baxis\":{\"endlinecolor\":\"#2a3f5f\",\"gridcolor\":\"white\",\"linecolor\":\"white\",\"minorgridcolor\":\"white\",\"startlinecolor\":\"#2a3f5f\"},\"type\":\"carpet\"}],\"table\":[{\"cells\":{\"fill\":{\"color\":\"#EBF0F8\"},\"line\":{\"color\":\"white\"}},\"header\":{\"fill\":{\"color\":\"#C8D4E3\"},\"line\":{\"color\":\"white\"}},\"type\":\"table\"}],\"barpolar\":[{\"marker\":{\"line\":{\"color\":\"#E5ECF6\",\"width\":0.5},\"pattern\":{\"fillmode\":\"overlay\",\"size\":10,\"solidity\":0.2}},\"type\":\"barpolar\"}],\"pie\":[{\"automargin\":true,\"type\":\"pie\"}]},\"layout\":{\"autotypenumbers\":\"strict\",\"colorway\":[\"#636efa\",\"#EF553B\",\"#00cc96\",\"#ab63fa\",\"#FFA15A\",\"#19d3f3\",\"#FF6692\",\"#B6E880\",\"#FF97FF\",\"#FECB52\"],\"font\":{\"color\":\"#2a3f5f\"},\"hovermode\":\"closest\",\"hoverlabel\":{\"align\":\"left\"},\"paper_bgcolor\":\"white\",\"plot_bgcolor\":\"#E5ECF6\",\"polar\":{\"bgcolor\":\"#E5ECF6\",\"angularaxis\":{\"gridcolor\":\"white\",\"linecolor\":\"white\",\"ticks\":\"\"},\"radialaxis\":{\"gridcolor\":\"white\",\"linecolor\":\"white\",\"ticks\":\"\"}},\"ternary\":{\"bgcolor\":\"#E5ECF6\",\"aaxis\":{\"gridcolor\":\"white\",\"linecolor\":\"white\",\"ticks\":\"\"},\"baxis\":{\"gridcolor\":\"white\",\"linecolor\":\"white\",\"ticks\":\"\"},\"caxis\":{\"gridcolor\":\"white\",\"linecolor\":\"white\",\"ticks\":\"\"}},\"coloraxis\":{\"colorbar\":{\"outlinewidth\":0,\"ticks\":\"\"}},\"colorscale\":{\"sequential\":[[0.0,\"#0d0887\"],[0.1111111111111111,\"#46039f\"],[0.2222222222222222,\"#7201a8\"],[0.3333333333333333,\"#9c179e\"],[0.4444444444444444,\"#bd3786\"],[0.5555555555555556,\"#d8576b\"],[0.6666666666666666,\"#ed7953\"],[0.7777777777777778,\"#fb9f3a\"],[0.8888888888888888,\"#fdca26\"],[1.0,\"#f0f921\"]],\"sequentialminus\":[[0.0,\"#0d0887\"],[0.1111111111111111,\"#46039f\"],[0.2222222222222222,\"#7201a8\"],[0.3333333333333333,\"#9c179e\"],[0.4444444444444444,\"#bd3786\"],[0.5555555555555556,\"#d8576b\"],[0.6666666666666666,\"#ed7953\"],[0.7777777777777778,\"#fb9f3a\"],[0.8888888888888888,\"#fdca26\"],[1.0,\"#f0f921\"]],\"diverging\":[[0,\"#8e0152\"],[0.1,\"#c51b7d\"],[0.2,\"#de77ae\"],[0.3,\"#f1b6da\"],[0.4,\"#fde0ef\"],[0.5,\"#f7f7f7\"],[0.6,\"#e6f5d0\"],[0.7,\"#b8e186\"],[0.8,\"#7fbc41\"],[0.9,\"#4d9221\"],[1,\"#276419\"]]},\"xaxis\":{\"gridcolor\":\"white\",\"linecolor\":\"white\",\"ticks\":\"\",\"title\":{\"standoff\":15},\"zerolinecolor\":\"white\",\"automargin\":true,\"zerolinewidth\":2},\"yaxis\":{\"gridcolor\":\"white\",\"linecolor\":\"white\",\"ticks\":\"\",\"title\":{\"standoff\":15},\"zerolinecolor\":\"white\",\"automargin\":true,\"zerolinewidth\":2},\"scene\":{\"xaxis\":{\"backgroundcolor\":\"#E5ECF6\",\"gridcolor\":\"white\",\"linecolor\":\"white\",\"showbackground\":true,\"ticks\":\"\",\"zerolinecolor\":\"white\",\"gridwidth\":2},\"yaxis\":{\"backgroundcolor\":\"#E5ECF6\",\"gridcolor\":\"white\",\"linecolor\":\"white\",\"showbackground\":true,\"ticks\":\"\",\"zerolinecolor\":\"white\",\"gridwidth\":2},\"zaxis\":{\"backgroundcolor\":\"#E5ECF6\",\"gridcolor\":\"white\",\"linecolor\":\"white\",\"showbackground\":true,\"ticks\":\"\",\"zerolinecolor\":\"white\",\"gridwidth\":2}},\"shapedefaults\":{\"line\":{\"color\":\"#2a3f5f\"}},\"annotationdefaults\":{\"arrowcolor\":\"#2a3f5f\",\"arrowhead\":0,\"arrowwidth\":1},\"geo\":{\"bgcolor\":\"white\",\"landcolor\":\"#E5ECF6\",\"subunitcolor\":\"white\",\"showland\":true,\"showlakes\":true,\"lakecolor\":\"white\"},\"title\":{\"x\":0.05},\"mapbox\":{\"style\":\"light\"}}},\"xaxis\":{\"anchor\":\"y\",\"domain\":[0.0,1.0],\"title\":{\"text\":\"year\"}},\"yaxis\":{\"anchor\":\"x\",\"domain\":[0.0,1.0],\"title\":{\"text\":\"population\"}},\"legend\":{\"title\":{\"text\":\"Borough\"},\"tracegroupgap\":0},\"margin\":{\"t\":60}},                        {\"responsive\": true}                    ).then(function(){\n",
       "                            \n",
       "var gd = document.getElementById('25315ad9-40b7-45a6-b948-18552ec3f74f');\n",
       "var x = new MutationObserver(function (mutations, observer) {{\n",
       "        var display = window.getComputedStyle(gd).display;\n",
       "        if (!display || display === 'none') {{\n",
       "            console.log([gd, 'removed!']);\n",
       "            Plotly.purge(gd);\n",
       "            observer.disconnect();\n",
       "        }}\n",
       "}});\n",
       "\n",
       "// Listen for the removal of the full notebook cells\n",
       "var notebookContainer = gd.closest('#notebook-container');\n",
       "if (notebookContainer) {{\n",
       "    x.observe(notebookContainer, {childList: true});\n",
       "}}\n",
       "\n",
       "// Listen for the clearing of the current output cell\n",
       "var outputEl = gd.closest('.output');\n",
       "if (outputEl) {{\n",
       "    x.observe(outputEl, {childList: true});\n",
       "}}\n",
       "\n",
       "                        })                };                });            </script>        </div>"
      ]
     },
     "metadata": {},
     "output_type": "display_data"
    }
   ],
   "source": [
    "population_sum = populations.groupby([\"Borough\",\"year\"]).sum() \n",
    "population_sum = population_sum.reset_index()\n",
    "fig2 = px.line(population_sum, x=\"year\", y=\"population\", color='Borough')\n",
    "fig2"
   ]
  },
  {
   "cell_type": "markdown",
   "metadata": {
    "editable": true,
    "slideshow": {
     "slide_type": ""
    },
    "tags": []
   },
   "source": [
    "## Step 4\n",
    "\n",
    "Submit via Gradescope."
   ]
  }
 ],
 "metadata": {
  "kernelspec": {
   "display_name": "Python 3 (ipykernel)",
   "language": "python",
   "name": "python3"
  },
  "language_info": {
   "codemirror_mode": {
    "name": "ipython",
    "version": 3
   },
   "file_extension": ".py",
   "mimetype": "text/x-python",
   "name": "python",
   "nbconvert_exporter": "python",
   "pygments_lexer": "ipython3",
   "version": "3.12.4"
  },
  "panel-cell-order": [
   "fbbdf0c9",
   "08e63cc7",
   "6f15c070",
   "99b3634f",
   "2afab61c",
   "b790e529",
   "29ace108",
   "06e2cc2b",
   "a7614a99",
   "ae5c22d0",
   "6babe166"
  ]
 },
 "nbformat": 4,
 "nbformat_minor": 4
}
